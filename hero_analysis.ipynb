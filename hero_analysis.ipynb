{
 "cells": [
  {
   "cell_type": "markdown",
   "metadata": {},
   "source": [
    "# Hero Analysis:\n",
    "### -Analytics Programming Project 1 & 3\n",
    "\n",
    "- Author: Ruoyu Chen\n",
    "\n",
    "- Github Repository: https://github.com/jc000222/Hero_analysis"
   ]
  },
  {
   "cell_type": "markdown",
   "metadata": {},
   "source": [
    "## Table of Contents\n",
    "\n",
    "- [1 Introduction](#1-introduction)\n",
    "- [2 Data Summary](#2-data-summary)\n",
    "    - [2.1 Dataset1: Comic Book Superheroes](#21-dataset-1-comic-book-superheroes)\n",
    "        - [2.1.1 Introduction](#211-introduction)\n",
    "        - [2.1.2 Data Variables](#212-data-variables)\n",
    "        - [2.1.3 Data Combine](#213-data-combine)\n",
    "        - [2.1.4 Data Overview](#214-data-overview)\n",
    "        - [2.1.5 Use Case](#215-use-case)\n",
    "    - [2.2 Dataset2: Movie Superheroes](#22-dataset-2-movie-heroes)  \n",
    "        - [2.2.1 Introduction](#221-introduction)  \n",
    "        - [2.2.2 Data Variables](#222-data-variables)  \n",
    "        - [2.1.4 Data Overview](#223-data-overview)\n",
    "- [3 Exploratory Data Analysis](#3-exploratory-data-analysis)\n",
    "    - [3.1 comic book superheroes](#21-dataset-1-comic-book-superheroes)\n",
    "        - [3.1.1 Univariate Analysis](#311-univariate-analysis)\n",
    "        - [3.1.2 Bivariate Analysis](#312-bivariate-analysis)\n",
    "    - [3.2 Movie Superheroes](#32-dataset-2-movie-superheroes)\n",
    "        - [3.1.1 Univariate Analysis](#321-univariate-analysis)\n",
    "        - [3.1.2 Bivariate Analysis](#322-bivariate-analysis)\n",
    "    - [3.3 Data Cleaning](#33-data-cleaning)\n",
    "- [4 Inference](#4-inference)\n",
    "- [4.3 Data Modeling](#43-model-building)\n",
    "- [5 Conclusion](#5conclusion)\n",
    "- [Reference](#reference)\n"
   ]
  },
  {
   "cell_type": "markdown",
   "metadata": {},
   "source": [
    "# 1. Introduction\n",
    "This analysis project focuses on exploring Marvel and DC superheroes using two datasets. The first dataset investigates hero popularity, longevity, and diversity aspects such as gender and sexual orientation. The second dataset dives into superhero movie industry by analyzing imdb and tamatoes ratings. By merging these datasets, the analysis aims to uncover the relationship between comic book heroes and movies those portrayed in.\n",
    "\n",
    "\n",
    "Main Research questions:\n",
    "1. Impact of Gender on Hero Alignment\n",
    "Understanding whether gender influences hero alignment requires analyzing how characters are aligned based on their gender. For instance, examining whether female characters are more inclined towards being good or evil compared to male characters. This analysis involves studying the distribution of character alignments across genders. However, conclusions drawn may vary based on the specific comic book universe, character arcs, and writers' perspectives.\n",
    "\n",
    "2. Attention to Gender and Sexual Minority (GSM) by Marvel vs. DC\n",
    "Assessing the focus on GSM characters involves comparing the representation of gender and sexual minority characters between Marvel and DC comics. This analysis includes evaluating the number of GSM characters in each universe, their prominence in storylines, their portrayal (positive or stereotypical), and the impact of these characters on the overall narrative. Quantitative data on GSM character representation and qualitative analysis of their storylines could help draw comparisons between the two comic book publishers.  \n",
    "3. Superhero Movie Genre and Ratings\n",
    "Analyzing superhero movie genres and their ratings involves examining the relationship between the genre of the movie (e.g., action, adventure, sci-fi) and the average ratings received. This analysis requires statistical methods to determine whether specific genres consistently receive higher ratings compared to others. Factors like audience preferences, storytelling, visual effects, and adherence to genre tropes could influence ratings. For instance, exploring whether action-packed superhero movies tend to receive higher or lower ratings compared to those focused on character-driven narratives."
   ]
  },
  {
   "cell_type": "markdown",
   "metadata": {},
   "source": [
    "# 2. Data summary"
   ]
  },
  {
   "cell_type": "markdown",
   "metadata": {},
   "source": [
    "### 2.1 Dataset 1: comic book superheroes"
   ]
  },
  {
   "cell_type": "markdown",
   "metadata": {},
   "source": [
    "##### 2.1.1 Introduction\n",
    "This dataset contains data behind the story \"Comic Books Are Still Made By Men, For Men And About Men\". The data comes from Marvel Wikia and DC Wikia. The data is split into two files, for DC and Marvel, respectively: dc-wikia-data.csv and marvel-wikia-data.csv. \n",
    "\n",
    "Link: https://github.com/fivethirtyeight/data/blob/master/comic-characters/README.md\n",
    "\n",
    "##### 2.1.2 Data Variables:\n",
    "| Variable          | Description                                                                                  |\n",
    "|-------------------|----------------------------------------------------------------------------------------------|\n",
    "| page_id           | The unique identifier for that character's page within the wikia                             |\n",
    "| name              | The name of the character                                                                    |\n",
    "| urlslug           | The unique URL within the wikia that takes you to the character                              |\n",
    "| ID                | The identity status of the character (Secret Identity, Public identity, No Dual Identity)    |\n",
    "| ALIGN             | If the character is Good, Bad, or Neutral                                                    |\n",
    "| EYE               | Eye color of the character                                                                   |\n",
    "| HAIR              | Hair color of the character                                                                  |\n",
    "| SEX               | Sex of the character (e.g., Male, Female, etc.)                                              |\n",
    "| GSM               | If the character is a gender or sexual minority (e.g., Homosexual characters, bisexual...)   |\n",
    "| ALIVE             | If the character is alive or deceased                                                        |\n",
    "| APPEARANCES       | The number of appearances of the character in comic books                                    |\n",
    "| FIRST APPEARANCE  | The month and year of the character's first appearance in a comic book                       |\n",
    "| YEAR              | The year of the character's first appearance in a comic book                                 |\n",
    "\n"
   ]
  },
  {
   "cell_type": "markdown",
   "metadata": {},
   "source": [
    "##### 2.1.3 Data Combine\n",
    "The dataset has two csv files. For better analysis, read the csv and combine them into single dataframe and add a \"Comic\" column to indicate whether the hero is from Marvel or DC."
   ]
  },
  {
   "cell_type": "code",
   "execution_count": null,
   "metadata": {},
   "outputs": [],
   "source": [
    "from src.hero_data.Data_Sum.data_sum import Reader\n",
    "data_url= ['https://raw.githubusercontent.com/fivethirtyeight/data/master/comic-characters/dc-wikia-data.csv',\n",
    "           'https://raw.githubusercontent.com/fivethirtyeight/data/master/comic-characters/marvel-wikia-data.csv']\n",
    "\n",
    "reader_comic = Reader(data_url)\n",
    "df_comic_raw = reader_comic.combiner()"
   ]
  },
  {
   "cell_type": "markdown",
   "metadata": {},
   "source": [
    "##### 2.1.4 Data Overview\n",
    "Check the first 5 rows of the dataset"
   ]
  },
  {
   "cell_type": "code",
   "execution_count": null,
   "metadata": {},
   "outputs": [],
   "source": [
    "\n",
    "df_comic_raw.head()\n"
   ]
  },
  {
   "cell_type": "markdown",
   "metadata": {},
   "source": [
    "##### 2.1.5 Use Case: \n",
    "This dataset contains data behind the story 'Comic Books Are Still Made By Men, For Men And About Men'. This article from highlights the underrepresentation of women in the comic book industry, both as creators and characters. It discusses efforts by major comic publishers to diversify their offerings but notes that there is still a significant gender disparity in the field. \n",
    "- Use case attribures:   \n",
    "The use case has attributes of gender, year of appearance, sex and GSM.\n",
    "- Use case attribures data type:  \n",
    "Gender, sex and GSM are catagorical data. Year of appearance is numeric.\n",
    "- Use case link: https://fivethirtyeight.com/features/women-in-comic-books/"
   ]
  },
  {
   "cell_type": "markdown",
   "metadata": {},
   "source": [
    "### 2.2 Dataset 2: Movie heroes"
   ]
  },
  {
   "cell_type": "markdown",
   "metadata": {},
   "source": [
    "##### 2.2.1 Introduction\n",
    "This dataset contains the movies of Marvel and DC.\n",
    "\n",
    "Link: https://drive.google.com/file/d/1wJvsXEctDJScS6dv9IvJy65Qr5LwQL8P/view\n",
    "\n",
    "##### 2.2.2 Data Variables:\n",
    "| Variable          | Description                                                                                  |\n",
    "|-------------------|----------------------------------------------------------------------------------------------|\n",
    "| title             | Title of the movie                                                                           |\n",
    "| year              | Year the movie was released                                                                  |\n",
    "| genre             | Genre of the movie                                                                           |\n",
    "| runtime           | Duration of the movie in minutes                                                             |\n",
    "| mpa_rating        | MPAA rating (e.g., PG-13, R, etc.)                                                           |\n",
    "| imdb_rating       | IMDb rating of the movie                                                                     |\n",
    "| imdb_votes        | Number of votes the movie received on IMDb                                                   |\n",
    "| imdb_gross        | Gross earnings of the movie according to IMDb                                                |\n",
    "| director          | Director(s) of the movie                                                                     |\n",
    "| stars             | Main actors or stars in the movie                                                            |\n",
    "| description       | Brief description or summary of the movie                                                    |\n",
    "| crit_consensus    | Critical consensus or summary of critical reviews about the movie                            |\n",
    "| tomato_meter      | Rotten Tomatoes meter score                                                                  |\n",
    "| tomato_review     | Number of reviews on Rotten Tomatoes                                                         |\n",
    "| tom_aud_score     | Rotten Tomatoes audience score                                                               |\n",
    "| tom_ratings       | Total number of ratings on Rotten Tomatoes                                                   |\n",
    "| entity            | Whether it is a Marvel movie or DC movie                                                     |\n",
    "| id                | Unique identifier or ID for the movie                                                        |\n",
    "\n",
    "##### 2.2.3 Data Overview\n",
    "Check the first 5 rows of the dataset"
   ]
  },
  {
   "cell_type": "code",
   "execution_count": null,
   "metadata": {},
   "outputs": [],
   "source": [
    "data= 'https://raw.githubusercontent.com/jc000222/Hero_Analysis/main/marvelvsdc.csv'\n",
    "\n",
    "reader_movie = Reader(data)\n",
    "df_movie_raw = reader_movie.reader()\n",
    "df_movie_raw.head()"
   ]
  },
  {
   "cell_type": "markdown",
   "metadata": {},
   "source": [
    "# 3 Exploratory data analysis\n",
    "### 3.1 Dataset 1: comic book superheroes\n",
    "\n"
   ]
  },
  {
   "cell_type": "code",
   "execution_count": null,
   "metadata": {},
   "outputs": [],
   "source": [
    "from src.hero_data.EDA.per_column import EDA_Per_Column\n",
    "\n",
    "eda_comics = EDA_Per_Column(df_comic_raw)"
   ]
  },
  {
   "cell_type": "markdown",
   "metadata": {},
   "source": [
    "##### 3.1.1 Univariate Analysis\n",
    "In this part, the analysis will go through all the columns in the dataset to get a basic understanding.\n",
    "\n"
   ]
  },
  {
   "cell_type": "markdown",
   "metadata": {},
   "source": [
    "##### - Page_id:   \n",
    "Description:&nbsp;The unique identifier for that character's page within the wikia  \n",
    "Explaination:The id has no meaning for analysis thus this column can be dropped."
   ]
  },
  {
   "cell_type": "markdown",
   "metadata": {},
   "source": [
    "##### - name:   \n",
    "Description:&nbsp;The name of the character.  \n",
    "Explaination:There are 23272 unique superhero names."
   ]
  },
  {
   "cell_type": "code",
   "execution_count": null,
   "metadata": {},
   "outputs": [],
   "source": [
    "df_comic_raw['name'].describe()"
   ]
  },
  {
   "cell_type": "markdown",
   "metadata": {},
   "source": [
    "##### - urlslug:   \n",
    "Description:&nbsp;The unique URL within the wikia that takes you to the character.  \n",
    "Explaination:The URL of Wekia has no meaning for analysis thus this column can be dropped."
   ]
  },
  {
   "cell_type": "markdown",
   "metadata": {},
   "source": [
    "##### - ID:   \n",
    "Description:&nbsp;The identity status of the character (Secret Identity, Public identity, No Dual Identity).  \n",
    "This is a categorical variable, use value_counts() to see the value under each category. As shown, there are 5 category for the identity status.  "
   ]
  },
  {
   "cell_type": "code",
   "execution_count": null,
   "metadata": {},
   "outputs": [],
   "source": [
    "df_comic_raw['ID'].value_counts()"
   ]
  },
  {
   "cell_type": "markdown",
   "metadata": {},
   "source": [
    "The code below shows the percentage of each category. The mojority of heroes are Secret Identity, with almost 50% of all heroes; followed by Public Identity up to 40%. While minority are No Dual Identity, Known to Authorities Identity or Identity Unknown."
   ]
  },
  {
   "cell_type": "code",
   "execution_count": null,
   "metadata": {},
   "outputs": [],
   "source": [
    "eda_comics.cat_percentage('ID')"
   ]
  },
  {
   "cell_type": "markdown",
   "metadata": {},
   "source": [
    "Plot these results and visuallize the data with barplot through Matplotlib and Seaborn."
   ]
  },
  {
   "cell_type": "code",
   "execution_count": null,
   "metadata": {},
   "outputs": [],
   "source": [
    "eda_comics.bar_chart('ID')"
   ]
  },
  {
   "cell_type": "markdown",
   "metadata": {},
   "source": [
    "It seems that there are less row of data than expected. Check the number of NULL data by isna(). It indicates that there are 5783 rows of null data. "
   ]
  },
  {
   "cell_type": "code",
   "execution_count": null,
   "metadata": {},
   "outputs": [],
   "source": [
    "df_comic_raw['ID'].isna().value_counts()"
   ]
  },
  {
   "cell_type": "markdown",
   "metadata": {},
   "source": [
    "##### - ALIGN:   \n",
    "Description:&nbsp;If the character is Good, Bad, or Neutral.  \n",
    "This is a categorical variable, use value_counts() to see the value under each category. As shown, there are 4 category for the align status.  "
   ]
  },
  {
   "cell_type": "code",
   "execution_count": null,
   "metadata": {},
   "outputs": [],
   "source": [
    "df_comic_raw['ALIGN'].value_counts()"
   ]
  },
  {
   "cell_type": "markdown",
   "metadata": {},
   "source": [
    "The code below shows the percentage of each category. The mojority of heroes are Bad Characters, for almost 50% of the heroes. Followed by 37% of Good Characters, while minority are Neutral Characters or Reformed Criminals."
   ]
  },
  {
   "cell_type": "code",
   "execution_count": null,
   "metadata": {},
   "outputs": [],
   "source": [
    "eda_comics.cat_percentage('ALIGN')"
   ]
  },
  {
   "cell_type": "markdown",
   "metadata": {},
   "source": [
    "Plot these results and visuallize the data with barplot through Matplotlib and Seaborn."
   ]
  },
  {
   "cell_type": "code",
   "execution_count": null,
   "metadata": {},
   "outputs": [],
   "source": [
    "eda_comics.bar_chart('ALIGN')"
   ]
  },
  {
   "cell_type": "markdown",
   "metadata": {},
   "source": [
    "It seems that there are less row of data than expected. Check the number of NULL data by isna(). It indicates that there are 3413 rows of null data. "
   ]
  },
  {
   "cell_type": "code",
   "execution_count": null,
   "metadata": {},
   "outputs": [],
   "source": [
    "df_comic_raw['ALIGN'].isna().value_counts()"
   ]
  },
  {
   "cell_type": "markdown",
   "metadata": {},
   "source": [
    "##### - EYE:   \n",
    "Description:&nbsp;Eye color of the character.  \n",
    "This is also a categorical variable, but with 26 different eye colors. See the category count by describe().  \n",
    "The most eye color is blue, with 3064 heroes."
   ]
  },
  {
   "cell_type": "code",
   "execution_count": null,
   "metadata": {},
   "outputs": [],
   "source": [
    "df_comic_raw['EYE'].describe()"
   ]
  },
  {
   "cell_type": "markdown",
   "metadata": {},
   "source": [
    "Plot these results and visuallize the data with barplot through Matplotlib and Seaborn."
   ]
  },
  {
   "cell_type": "code",
   "execution_count": null,
   "metadata": {},
   "outputs": [],
   "source": [
    "eda_comics.barh_chart('EYE')"
   ]
  },
  {
   "cell_type": "markdown",
   "metadata": {},
   "source": [
    "It seems that there are less row of data than expected. Check the number of NULL data by isna(). It indicates that there are 9877 rows of null data. "
   ]
  },
  {
   "cell_type": "code",
   "execution_count": null,
   "metadata": {},
   "outputs": [],
   "source": [
    "df_comic_raw['EYE'].isna().value_counts()"
   ]
  },
  {
   "cell_type": "markdown",
   "metadata": {},
   "source": [
    "##### - HAIR:   \n",
    "Description:&nbsp;Hair color of the character.  \n",
    "This is also a categorical variable, but with 28 different hair colors. See the category count by describe().  \n",
    "The most hair color is black hair, with 5329 heroes."
   ]
  },
  {
   "cell_type": "code",
   "execution_count": null,
   "metadata": {},
   "outputs": [],
   "source": [
    "df_comic_raw['HAIR'].describe()"
   ]
  },
  {
   "cell_type": "markdown",
   "metadata": {},
   "source": [
    "Plot these results and visuallize the data with barplot through Matplotlib and Seaborn."
   ]
  },
  {
   "cell_type": "code",
   "execution_count": null,
   "metadata": {},
   "outputs": [],
   "source": [
    "eda_comics.barh_chart('HAIR')"
   ]
  },
  {
   "cell_type": "markdown",
   "metadata": {},
   "source": [
    "It seems that there are less row of data than expected. Check the number of NULL data by isna(). It indicates that there are 6538 rows of null data. "
   ]
  },
  {
   "cell_type": "code",
   "execution_count": null,
   "metadata": {},
   "outputs": [],
   "source": [
    "df_comic_raw['HAIR'].isna().value_counts()"
   ]
  },
  {
   "cell_type": "markdown",
   "metadata": {},
   "source": [
    "##### - SEX:   \n",
    "Description:&nbsp;Sex of the character (e.g., Male, Female, etc.)  \n",
    "This is a categorical variable, use value_counts() to see the value under each category. As shown, there are 4 category for the align status.  "
   ]
  },
  {
   "cell_type": "code",
   "execution_count": null,
   "metadata": {},
   "outputs": [],
   "source": [
    "df_comic_raw['SEX'].value_counts()"
   ]
  },
  {
   "cell_type": "markdown",
   "metadata": {},
   "source": [
    "The code below shows the percentage of each category. The mojority of heroes are Male Characters, for 73% of the heroes, followed by 26% of Female Characters. While minority are Agender Characters, Genderfluid, Characters and Transgender Characters."
   ]
  },
  {
   "cell_type": "code",
   "execution_count": null,
   "metadata": {},
   "outputs": [],
   "source": [
    "eda_comics.cat_percentage('SEX')"
   ]
  },
  {
   "cell_type": "markdown",
   "metadata": {},
   "source": [
    "Plot these results and visuallize the data with barplot through Matplotlib and Seaborn."
   ]
  },
  {
   "cell_type": "code",
   "execution_count": null,
   "metadata": {},
   "outputs": [],
   "source": [
    "eda_comics.bar_chart('SEX')"
   ]
  },
  {
   "cell_type": "markdown",
   "metadata": {},
   "source": [
    "It seems that there are less row of data than expected. Check the number of NULL data by isna(). It indicates that there are 979 rows of null data. "
   ]
  },
  {
   "cell_type": "code",
   "execution_count": null,
   "metadata": {},
   "outputs": [],
   "source": [
    "df_comic_raw['SEX'].isna().value_counts()"
   ]
  },
  {
   "cell_type": "markdown",
   "metadata": {},
   "source": [
    "##### - GSM:   \n",
    "Description:&nbsp; If the character is a gender or sexual minority (e.g., Homosexual characters, bisexual...)  \n",
    "This is a categorical variable, use value_counts() to see the value under each category. As shown, there are 6 category for the GSM. Very little heroes have data on this column, and the most is Homosexual Characters."
   ]
  },
  {
   "cell_type": "code",
   "execution_count": null,
   "metadata": {},
   "outputs": [],
   "source": [
    "df_comic_raw['GSM'].value_counts()"
   ]
  },
  {
   "cell_type": "markdown",
   "metadata": {},
   "source": [
    "Plot these results and visuallize the data with barplot through Matplotlib and Seaborn."
   ]
  },
  {
   "cell_type": "code",
   "execution_count": null,
   "metadata": {},
   "outputs": [],
   "source": [
    "eda_comics.barh_chart('GSM')"
   ]
  },
  {
   "cell_type": "markdown",
   "metadata": {},
   "source": [
    "##### - ALIVE:   \n",
    "Description:&nbsp; If the character is alive or deceased  \n",
    "This is a categorical variable, use value_counts() to see the value under each category. As shown, there are 2 category for the ALIVE status. "
   ]
  },
  {
   "cell_type": "code",
   "execution_count": null,
   "metadata": {},
   "outputs": [],
   "source": [
    "df_comic_raw['ALIVE'].value_counts()"
   ]
  },
  {
   "cell_type": "markdown",
   "metadata": {},
   "source": [
    "The code below shows the percentage of the two category. The mojority of heroes are Living Characters, for 76% of the heroes, the remaining are Deceased Characters."
   ]
  },
  {
   "cell_type": "code",
   "execution_count": null,
   "metadata": {},
   "outputs": [],
   "source": [
    "eda_comics.cat_percentage('ALIVE')"
   ]
  },
  {
   "cell_type": "markdown",
   "metadata": {},
   "source": [
    "Plot these results and visuallize the data with barplot through Matplotlib and Seaborn."
   ]
  },
  {
   "cell_type": "code",
   "execution_count": null,
   "metadata": {},
   "outputs": [],
   "source": [
    "eda_comics.bar_chart('ALIVE')"
   ]
  },
  {
   "cell_type": "markdown",
   "metadata": {},
   "source": [
    "##### - APPEARANCES:   \n",
    "Description:&nbsp; The number of appearances of the character in comic books  \n",
    "This is a numerical variable, use describe() to get an overview of the column. As shown, there are 2 category for the ALIVE status.  \n",
    "The average count in these records is around 19, with a notable variability indicated by the standard deviation of 93.81. The range of APPEARANCES spans from a minimum of 1 to a maximum of 4043, suggesting a wide diversity; The distribution indicates that most values (75%) fall within 1-10, meaning most APPEARANCES is at a small number."
   ]
  },
  {
   "cell_type": "code",
   "execution_count": null,
   "metadata": {},
   "outputs": [],
   "source": [
    "df_comic_raw['APPEARANCES'].describe()"
   ]
  },
  {
   "cell_type": "markdown",
   "metadata": {},
   "source": [
    "Plot these results and visuallize the data with histogram through Matplotlib and Seaborn."
   ]
  },
  {
   "cell_type": "code",
   "execution_count": null,
   "metadata": {},
   "outputs": [],
   "source": [
    "eda_comics.hist_chart('APPEARANCES')"
   ]
  },
  {
   "cell_type": "markdown",
   "metadata": {},
   "source": [
    "##### - FIRST APPEARANCE:   \n",
    "Description:&nbsp; The month and year of the character's first appearance in a comic book.  \n",
    "This data is exactly the same as next column. Month is not meaningful to this analysis, so it can be dropped."
   ]
  },
  {
   "cell_type": "code",
   "execution_count": null,
   "metadata": {},
   "outputs": [],
   "source": [
    "df_comic_raw['FIRST APPEARANCE'].head()"
   ]
  },
  {
   "cell_type": "markdown",
   "metadata": {},
   "source": [
    "##### - YEAR:   \n",
    "Description:&nbsp; The month and year of the character's first appearance in a comic book.  \n",
    "The year varies from 1935 to 2013. And from the value_counts() we get the number of heroes that are introduced in that year."
   ]
  },
  {
   "cell_type": "code",
   "execution_count": null,
   "metadata": {},
   "outputs": [],
   "source": [
    "df_comic_raw['YEAR'].value_counts().sort_index()"
   ]
  },
  {
   "cell_type": "markdown",
   "metadata": {},
   "source": [
    "Plot these results and visuallize the data with line chart through Matplotlib and Seaborn."
   ]
  },
  {
   "cell_type": "code",
   "execution_count": null,
   "metadata": {},
   "outputs": [],
   "source": [
    "eda_comics.line_chart('YEAR')"
   ]
  },
  {
   "cell_type": "markdown",
   "metadata": {},
   "source": [
    "- Comic:   \n",
    "Description:&nbsp; If the character is from Marvel or DC.  \n",
    "This is a categorical variable, use value_counts() to see the value under each category. As shown, there are 2 category for the ALIVE status. "
   ]
  },
  {
   "cell_type": "code",
   "execution_count": null,
   "metadata": {},
   "outputs": [],
   "source": [
    "df_comic_raw['Comic'].value_counts()"
   ]
  },
  {
   "cell_type": "markdown",
   "metadata": {},
   "source": [
    "The code below shows the percentage of two category. The mojority of heroes are Marvel Characters, for almost 70% of the heroes. Followed by almost 30% of DC Characters."
   ]
  },
  {
   "cell_type": "code",
   "execution_count": null,
   "metadata": {},
   "outputs": [],
   "source": [
    "eda_comics.cat_percentage('Comic')"
   ]
  },
  {
   "cell_type": "markdown",
   "metadata": {},
   "source": [
    "Plot these results and visuallize the data with barplot through Matplotlib and Seaborn."
   ]
  },
  {
   "cell_type": "code",
   "execution_count": null,
   "metadata": {},
   "outputs": [],
   "source": [
    "eda_comics.bar_chart('Comic')"
   ]
  },
  {
   "cell_type": "markdown",
   "metadata": {},
   "source": [
    "##### 3.1.2 Bivariate Analysis\n",
    "In this part, the analysis will go through some columns in the dataset to get a basic understanding.\n"
   ]
  },
  {
   "cell_type": "code",
   "execution_count": null,
   "metadata": {},
   "outputs": [],
   "source": [
    "from src.hero_data.EDA.multi_column import EDA_Multi_Column\n",
    "\n",
    "eda_comics_m = EDA_Multi_Column(df_comic_raw)"
   ]
  },
  {
   "cell_type": "markdown",
   "metadata": {},
   "source": [
    "##### -ALIGN & ID\n",
    "The Bivariate Analysis for character ALIGN and identity shows us that a vast majority of the bad characters tend to have secret identity. The proportion of Secret and Public identity are less drastic for good characters."
   ]
  },
  {
   "cell_type": "code",
   "execution_count": null,
   "metadata": {},
   "outputs": [],
   "source": [
    "eda_comics_m.bar_chart_m(['ALIGN','ID'])"
   ]
  },
  {
   "cell_type": "markdown",
   "metadata": {},
   "source": [
    "##### -ALIVE& ALIGN \n",
    "The Bivariate Analysis for character ALIGN and whether alive shows us that a vast majority characters are alive. And Bad characters tend to have more deceased. "
   ]
  },
  {
   "cell_type": "code",
   "execution_count": null,
   "metadata": {},
   "outputs": [],
   "source": [
    "eda_comics_m.bar_chart_m(['ALIVE','ALIGN'])"
   ]
  },
  {
   "cell_type": "markdown",
   "metadata": {},
   "source": [
    "### 3.2 Dataset 2: movie superheroes\n"
   ]
  },
  {
   "cell_type": "markdown",
   "metadata": {},
   "source": [
    "##### 3.2.1 Univariate Analysis\n",
    "In this part, the analysis will go through all the columns in the dataset to get a basic understanding."
   ]
  },
  {
   "cell_type": "code",
   "execution_count": null,
   "metadata": {},
   "outputs": [],
   "source": [
    "eda_movies = EDA_Per_Column(df_movie_raw)"
   ]
  },
  {
   "cell_type": "markdown",
   "metadata": {},
   "source": [
    "##### - title\n",
    "Description: Title of the movie.  \n",
    "There are 89 different superhero movies. The strange thing is that there are 2 movies that has same name."
   ]
  },
  {
   "cell_type": "code",
   "execution_count": null,
   "metadata": {},
   "outputs": [],
   "source": [
    "df_movie_raw['title'].describe()"
   ]
  },
  {
   "cell_type": "markdown",
   "metadata": {},
   "source": [
    "##### - year\n",
    "Description: Year the movie was released  \n",
    "The year varies from 1944 to 2020. And from the value_counts() we get the number of movies that are screened in that year."
   ]
  },
  {
   "cell_type": "code",
   "execution_count": null,
   "metadata": {},
   "outputs": [],
   "source": [
    "display(df_movie_raw['year'].value_counts().sort_index().head(5))\n",
    "display(df_movie_raw['year'].value_counts().sort_index().tail(5))"
   ]
  },
  {
   "cell_type": "markdown",
   "metadata": {},
   "source": [
    "Plot these results and visuallize the data with line chart through Matplotlib and Seaborn."
   ]
  },
  {
   "cell_type": "code",
   "execution_count": null,
   "metadata": {},
   "outputs": [],
   "source": [
    "eda_movies.line_chart('year')"
   ]
  },
  {
   "cell_type": "markdown",
   "metadata": {},
   "source": [
    "##### - genre:   \n",
    "Description:&nbsp; Genre of the movie  \n",
    "This is a categorical variable, use value_counts() to see the value under each category. As shown, there are many category for the genre. The data is aggregated and can be melt down to a better view."
   ]
  },
  {
   "cell_type": "code",
   "execution_count": null,
   "metadata": {},
   "outputs": [],
   "source": [
    "df_movie_raw['genre'].value_counts()"
   ]
  },
  {
   "cell_type": "markdown",
   "metadata": {},
   "source": [
    "##### - runtime:   \n",
    "Description:&nbsp; Duration of the movie in minutes.  \n",
    "This is a numerical variable, use describe() to see the value distribution. As shown, it contains 90 rows of data. The average runtime of the movies is approximately 124.14 minutes, with a standard deviation of 23.52 minutes. The shortest movie in the dataset runs for 58 minutes, while the longest runs for 244 minutes."
   ]
  },
  {
   "cell_type": "code",
   "execution_count": null,
   "metadata": {},
   "outputs": [],
   "source": [
    "df_movie_raw['runtime'].describe()"
   ]
  },
  {
   "cell_type": "markdown",
   "metadata": {},
   "source": [
    "Plot these results and visuallize the data with boxplot through Matplotlib and Seaborn."
   ]
  },
  {
   "cell_type": "code",
   "execution_count": null,
   "metadata": {},
   "outputs": [],
   "source": [
    "eda_movies.boxplot_chart('runtime')"
   ]
  },
  {
   "cell_type": "markdown",
   "metadata": {},
   "source": [
    "##### - mpa_rating:   \n",
    "Description:&nbsp; MPAA rating (e.g., PG-13, R, etc.)  \n",
    "This is a categorical variable, use value_count() to see the value distribution. As shown, the most of movie ratings by MPAA is with a PG-13 rating, constituting 67 movies. Followed by R-rated movies, comprising 12 movies. While PG-rated films and those marked as 'Approved' or 'Passed' account for 9 and 1 each, respectively."
   ]
  },
  {
   "cell_type": "code",
   "execution_count": null,
   "metadata": {},
   "outputs": [],
   "source": [
    "df_movie_raw['mpa_rating'].value_counts()"
   ]
  },
  {
   "cell_type": "markdown",
   "metadata": {},
   "source": [
    "Plot these results and visuallize the data with barplot through Matplotlib and Seaborn."
   ]
  },
  {
   "cell_type": "code",
   "execution_count": null,
   "metadata": {},
   "outputs": [],
   "source": [
    "eda_movies.bar_chart('mpa_rating')"
   ]
  },
  {
   "cell_type": "markdown",
   "metadata": {},
   "source": [
    "##### - imdb_rating:   \n",
    "Description:&nbsp; IMDb rating of the movie  \n",
    "This is a numerical variable, use describe() to see the value distribution. As shown, the ratings range from a minimum of 2.9 to a maximum of 9.0."
   ]
  },
  {
   "cell_type": "code",
   "execution_count": null,
   "metadata": {},
   "outputs": [],
   "source": [
    "df_movie_raw['imdb_rating'].describe()"
   ]
  },
  {
   "cell_type": "markdown",
   "metadata": {},
   "source": [
    "Plot these results and visuallize the data with histogram through Matplotlib and Seaborn."
   ]
  },
  {
   "cell_type": "code",
   "execution_count": null,
   "metadata": {},
   "outputs": [],
   "source": [
    "eda_movies.hist_chart('imdb_rating')"
   ]
  },
  {
   "cell_type": "markdown",
   "metadata": {},
   "source": [
    "##### - imdb_votes:   \n",
    "Description:&nbsp; Number of votes the movie received on IMDb  \n",
    "This is a numerical variable, use describe() to see the value distribution. As shown, the vote has a mean of approximately 465,283. The votes vary widely, with the smallest at 844 and the largest reaching 2.37 million. "
   ]
  },
  {
   "cell_type": "code",
   "execution_count": null,
   "metadata": {},
   "outputs": [],
   "source": [
    "df_movie_raw['imdb_votes'].describe()"
   ]
  },
  {
   "cell_type": "markdown",
   "metadata": {},
   "source": [
    "##### - imdb_gross:   \n",
    "Description:&nbsp; Gross earnings of the movie according to IMDb  \n",
    "This is a numerical variable, use describe() to see the value distribution. As shown, mean gross revenue is around \\$212,368,200 and standard deviation is approximately \\$173,757,600. The minimum value is \\$0, indicating there might be missing or unrecorded data points, while the maximum gross is approximately \\$858,370,000. "
   ]
  },
  {
   "cell_type": "code",
   "execution_count": null,
   "metadata": {},
   "outputs": [],
   "source": [
    "df_movie_raw['imdb_gross'].describe()"
   ]
  },
  {
   "cell_type": "code",
   "execution_count": null,
   "metadata": {},
   "outputs": [],
   "source": [
    "eda_movies.hist_chart('imdb_gross')"
   ]
  },
  {
   "cell_type": "markdown",
   "metadata": {},
   "source": [
    "##### - director:   \n",
    "Description:&nbsp; Director(s) of the movie  \n",
    "The Director of movies is not relevant for this analysis thus this column can be dropped."
   ]
  },
  {
   "cell_type": "markdown",
   "metadata": {},
   "source": [
    "##### - stars:   \n",
    "Description:&nbsp; Main actors or stars in the movie  \n",
    "The stars of movies is not relevant for this analysis thus this column can be dropped."
   ]
  },
  {
   "cell_type": "markdown",
   "metadata": {},
   "source": [
    "##### - description:   \n",
    "Description:&nbsp; Brief description or summary of the movie  \n",
    "The description of movies is not relevant for this analysis thus this column can be dropped."
   ]
  },
  {
   "cell_type": "markdown",
   "metadata": {},
   "source": [
    "##### - crit_consensus:   \n",
    "Description:&nbsp;  Critical consensus or summary of critical reviews about the movie.  \n",
    "The crit_consensus of movies is not relevant for this analysis thus this column can be dropped."
   ]
  },
  {
   "cell_type": "markdown",
   "metadata": {},
   "source": [
    "##### - tomato_meter:   \n",
    "Description:&nbsp; Rotten Tomatoes meter score.  \n",
    "This is a numerical variable, use describe() to see the value distribution."
   ]
  },
  {
   "cell_type": "code",
   "execution_count": null,
   "metadata": {},
   "outputs": [],
   "source": [
    "df_movie_raw['tomato_meter'].describe()"
   ]
  },
  {
   "cell_type": "code",
   "execution_count": null,
   "metadata": {},
   "outputs": [],
   "source": [
    "eda_movies.hist_chart('tomato_meter')"
   ]
  },
  {
   "cell_type": "markdown",
   "metadata": {},
   "source": [
    "##### - tom_aud_score:   \n",
    "Description:&nbsp; Rotten Tomatoes audience score.  \n",
    "This is a numerical variable, use describe() to see the value distribution."
   ]
  },
  {
   "cell_type": "code",
   "execution_count": null,
   "metadata": {},
   "outputs": [],
   "source": [
    "df_movie_raw['tom_aud_score'].describe()"
   ]
  },
  {
   "cell_type": "code",
   "execution_count": null,
   "metadata": {},
   "outputs": [],
   "source": [
    "eda_movies.hist_chart('tom_aud_score')"
   ]
  },
  {
   "cell_type": "markdown",
   "metadata": {},
   "source": [
    "##### - tomato_review:   \n",
    "Description:&nbsp; Number of reviews on Rotten Tomatoes  \n",
    "The tomato_review of movies is not relevant for this analysis thus this column can be dropped."
   ]
  },
  {
   "cell_type": "markdown",
   "metadata": {},
   "source": [
    "##### - tom_ratings:   \n",
    "Description:&nbsp; Total number of ratings on Rotten Tomatoes  \n",
    "The tom_ratings of movies is not relevant for this analysis thus this column can be dropped."
   ]
  },
  {
   "cell_type": "markdown",
   "metadata": {},
   "source": [
    "##### - entity:   \n",
    "Description:&nbsp; Whether it is a Marvel movie or DC movie.  \n",
    "This is a categorical variable, use value_counts() to see the value under each category. As shown, there are 5 category for the identity status.  "
   ]
  },
  {
   "cell_type": "code",
   "execution_count": null,
   "metadata": {},
   "outputs": [],
   "source": [
    "df_movie_raw['entity'].value_counts()"
   ]
  },
  {
   "cell_type": "code",
   "execution_count": null,
   "metadata": {},
   "outputs": [],
   "source": [
    "eda_movies.bar_chart('entity')"
   ]
  },
  {
   "cell_type": "markdown",
   "metadata": {},
   "source": [
    "##### - id:   \n",
    "Description:&nbsp; Unique identifier or ID for the movie.  \n",
    "The id of movies is not relevant for this analysis."
   ]
  },
  {
   "cell_type": "markdown",
   "metadata": {},
   "source": [
    "##### 3.2.2 Bivariate Analysis\n",
    "In this part, the analysis will go through some columns in the dataset to get a basic understanding.\n"
   ]
  },
  {
   "cell_type": "code",
   "execution_count": null,
   "metadata": {},
   "outputs": [],
   "source": [
    "from src.hero_data.EDA.multi_column import EDA_Multi_Column\n",
    "\n",
    "eda_movies_m = EDA_Multi_Column(df_movie_raw)"
   ]
  },
  {
   "cell_type": "markdown",
   "metadata": {},
   "source": [
    "##### -imdb_rating & imdb_gross\n",
    "The scatter plot shows a weak positive correlation between imdb_rating and imdb_gross. This means that movies with higher imdb ratings tend to have higher imdb gross. However there are many movies with high imdb ratings that have low imdb gross, and vice versa. This indicates that there are other factors that influence imdb gross besides imdb rating, such as genre, marketing budget, and release date.\n",
    "\n",
    "It can be explained by that imdb rating is a rough indicator of movie quality but not as a perfect measurement. "
   ]
  },
  {
   "cell_type": "code",
   "execution_count": null,
   "metadata": {},
   "outputs": [],
   "source": [
    "eda_movies_m.scatter_plot(['imdb_rating','imdb_gross'])"
   ]
  },
  {
   "cell_type": "markdown",
   "metadata": {},
   "source": [
    "### 3.3 Data Cleaning"
   ]
  },
  {
   "cell_type": "markdown",
   "metadata": {},
   "source": [
    "##### 3.3.1 Column drop\n",
    "Drop the column not needed an both dataset."
   ]
  },
  {
   "cell_type": "code",
   "execution_count": null,
   "metadata": {},
   "outputs": [],
   "source": [
    "from src.hero_data.EDA.data_cleaning import Cleaner\n",
    "\n",
    "cleaner_comic= Cleaner(df_comic_raw)\n",
    "\n",
    "columns_to_exclude = ['page_id', 'urlslug','EYE','HAIR','FIRST APPEARANCE']\n",
    "df_comic_c = cleaner_comic.delete_columns(columns_to_exclude)\n",
    "display(df_comic_c.columns)\n",
    "\n",
    "cleaner_movie= Cleaner(df_movie_raw)\n",
    "\n",
    "columns_to_exclude = ['Unnamed: 0','mpa_rating', 'imdb_votes','director','stars','description','crit_consensus','tomato_review','tom_ratings']\n",
    "df_movie_c = cleaner_movie.delete_columns(columns_to_exclude)\n",
    "display(df_movie_c.columns)"
   ]
  },
  {
   "cell_type": "markdown",
   "metadata": {},
   "source": [
    "##### 3.3.2 NULL Clean\n",
    "Through 3.1 and 3.2, we can see there is a significant number of NULL data. The null_check below shows the null value in each column. The lighter color indicates a null value."
   ]
  },
  {
   "cell_type": "code",
   "execution_count": null,
   "metadata": {},
   "outputs": [],
   "source": [
    "cleaner_comic.null_check()"
   ]
  },
  {
   "cell_type": "markdown",
   "metadata": {},
   "source": [
    "| Variable          | Description                                                       |\n",
    "|-------------------|-------------------------------------------------------------------------------|\n",
    "| ID                | Some heros' identity is not clear in comics, so replace the NaN values with \"Unknown\". Combine null value with original category \"Identity Unknown\"|\n",
    "| ALIGN             | Replace the NaN value with 'Unknown'.                                                    |\n",
    "| SEX               | NaN value in SEX can be replaced by 'Unknown'.                                            |\n",
    "| GSM               | Column GSM is for very little number of heros, the null value stands for no GSM. So null value is reasonable. Replace null with 'not GSM'   |\n",
    "| APPEARANCES       | Column appearances has null subject for heros that never appear in comics, but do have basic information. So replace the null value with 0.                                    |\n",
    "| YEAR              | The year of the character's first appearance in a comic book                                 |"
   ]
  },
  {
   "cell_type": "code",
   "execution_count": null,
   "metadata": {},
   "outputs": [],
   "source": [
    "df_comic=cleaner_comic.replace_null()\n",
    "cleaner_comic.null_check()"
   ]
  },
  {
   "cell_type": "markdown",
   "metadata": {},
   "source": [
    "The second dataset has no null value."
   ]
  },
  {
   "cell_type": "code",
   "execution_count": null,
   "metadata": {},
   "outputs": [],
   "source": [
    "cleaner_movie.null_check()\n",
    "df_movie=df_movie_c"
   ]
  },
  {
   "cell_type": "markdown",
   "metadata": {},
   "source": [
    "# 4 Inference\n",
    "\n",
    "For the inference section, we'll select data related to research question and perform a analysis."
   ]
  },
  {
   "cell_type": "code",
   "execution_count": null,
   "metadata": {},
   "outputs": [],
   "source": [
    "from src.hero_data.infer import Analyzer"
   ]
  },
  {
   "cell_type": "markdown",
   "metadata": {},
   "source": [
    "### 4.1 Dataset 1: comic book superheroes\n"
   ]
  },
  {
   "cell_type": "code",
   "execution_count": null,
   "metadata": {},
   "outputs": [],
   "source": [
    "analyzer_comic = Analyzer(df_comic)"
   ]
  },
  {
   "cell_type": "markdown",
   "metadata": {},
   "source": [
    "##### 4.1.1 Does Gender have a impact on the alignment of the heroes?"
   ]
  },
  {
   "cell_type": "markdown",
   "metadata": {},
   "source": [
    "The chart below represent the percentage of alignment of heroes within different sex. In total, it is clear that bad characters are little bit more than Good characters.  \n",
    "For transgender characters, all of the characters are bad; Compared with female characters, male has a larger percentage of bad characters; for genderfuid characters, there are no bad characters. "
   ]
  },
  {
   "cell_type": "code",
   "execution_count": null,
   "metadata": {},
   "outputs": [],
   "source": [
    "analyzer_comic.Align_Sex()"
   ]
  },
  {
   "cell_type": "markdown",
   "metadata": {},
   "source": [
    "##### 4.1.2 Does Marvel have more attention on the gender and sexual minority than DC?"
   ]
  },
  {
   "cell_type": "markdown",
   "metadata": {},
   "source": [
    "From the chart below it is obvious that DC has less heroes that is gender and sexual minority than Marvel. For other four types of GSM, DC have no heroes of it."
   ]
  },
  {
   "cell_type": "code",
   "execution_count": null,
   "metadata": {},
   "outputs": [],
   "source": [
    "analyzer_comic.GSM_Comic()"
   ]
  },
  {
   "cell_type": "markdown",
   "metadata": {},
   "source": [
    "### 4.2 Dataset 2: movie superheroes"
   ]
  },
  {
   "cell_type": "code",
   "execution_count": null,
   "metadata": {},
   "outputs": [],
   "source": [
    "analyzer_movie = Analyzer(df_movie)"
   ]
  },
  {
   "cell_type": "markdown",
   "metadata": {},
   "source": [
    "##### 4.2.1 What genre of the superhero movie has a better rating?\n",
    "In this question, we will give a insight about the genre of the superhero movies. The genre of the movie can be a preference of audience, however it may have strong relation with the movie ratings. So providing the average ratings of each genre can help us better understand what genre does the audience like, and what genre can be most suitable for superhero movies.  "
   ]
  },
  {
   "cell_type": "markdown",
   "metadata": {},
   "source": [
    "The genre column contains multiple genres in each row. So we have to split the genres into individual rows, and group the genres. And calculate the ratings on each genre as well as the number of movies on this genre."
   ]
  },
  {
   "cell_type": "markdown",
   "metadata": {},
   "source": [
    "In the chart are the average ratings on superhero movies from 1944 to 2020, grouping by genres.   \n",
    "Count: The Action genre are in the most movies. Followed by Adventure and Sci-Fi. The other genres has relatively less movies.  \n",
    "The ratings are selected from 3 different indicaters: IMDb, Rotten Tomato meter and its audience rating.  \n",
    "For the overall rating, all genres have very close average rating, but the Comedy is having the best rating. Followed by drama and Sci-Fi. Crime genre has the lowest rating of all, with only 52/100 on the average rating."
   ]
  },
  {
   "cell_type": "code",
   "execution_count": null,
   "metadata": {},
   "outputs": [],
   "source": [
    "analyzer_movie.genre_analysis()"
   ]
  },
  {
   "cell_type": "markdown",
   "metadata": {},
   "source": [
    "### 4.3 Model Building"
   ]
  },
  {
   "cell_type": "markdown",
   "metadata": {},
   "source": [
    "For the model building, we are going to try build a prediction model on the 'ALIGN' of the heroes. Our goal is to __try to predict whether or not a hero would have been more likely or not to be a good character__ based on the data contained in the comic dataset.  \n"
   ]
  },
  {
   "cell_type": "markdown",
   "metadata": {},
   "source": [
    "First we need to look at the columns again and decide which columns we would choose to build the prediction model upon.\n",
    "| Variable          | Description                                                                                  |\n",
    "|-------------------|----------------------------------------------------------------------------------------------|\n",
    "| name              | Name differs from different heroes so it will not be a predictor                             |\n",
    "| ID                | The identity status of the character can be a predictor(Secret Identity, Public identity, No Dual Identity)    |\n",
    "| ALIGN             | This will be the target of the model                                                    |\n",
    "| SEX               | Sex of the character can be a predictor                                              |\n",
    "| GSM               | There is too less gender sexual minority heroes according to EDA part so will not be a predictor  |\n",
    "| ALIVE             | If the character is alive or deceased can be a predictor                                                       |\n",
    "| APPEARANCES       | The number of appearances of the character in comic books can be a predictor             |\n",
    "| YEAR              | The year of the character's first appearance in a comic book may not be related to its alignment                                | \n",
    "\n",
    "To make the prediction to be more precise, we will remove all the 'unknown' because they are not helpful in predicting the hero's alignment.\n",
    "\n",
    "We use the ID(Secret Identity or Public identity) and not using 'No Dual Identity' is because the majority of heroes have Secret or Public identity according to the EDA. Also, using only Secret or Public makes the prediction easier.\n",
    "\n",
    "We use the SEX only in Male or Female is because the majority of heroes are Male or Female according to the EDA.\n",
    "\n",
    "ALIVE only have 2 status which are alive or deceased.\n",
    "\n",
    "ID, SEX, ALIVE will be categorical and APPEARANCES will be numerical.\n",
    "\n",
    "The align will only be good characters and bad characters for prediction target. Other align is having too less data for traning and predicting."
   ]
  },
  {
   "cell_type": "markdown",
   "metadata": {},
   "source": [
    "Initialize the ModelBuilder. This class will filter the dataFrame based on specific conditions, preprocess the data, build a logistic regression model, and visualize the relationship between features and predicted probabilities. Using the pipeline can see the structure of the training preprocess and the model used.\n",
    "\n",
    "The Cross-validation scores will reflect the performance of the model across different subsets of the data during cross-validation. The mean accuracy is the average of these individual accuracy scores across all the folds. It provides an overall estimation of how well the model is expected to perform on unseen data based on the cross-validated evaluation."
   ]
  },
  {
   "cell_type": "code",
   "execution_count": null,
   "metadata": {},
   "outputs": [],
   "source": [
    "from src.hero_data.model import PipelineBuilder\n",
    "\n",
    "model_align = PipelineBuilder(df_comic)\n",
    "pipeline=model_align.model_ALIGN()\n",
    "pipeline"
   ]
  },
  {
   "cell_type": "markdown",
   "metadata": {},
   "source": [
    "Let's see the data after the data is being ordinal encoded.  \n",
    "ID have Secret Identity as 1 and Public Identity as 0;  \n",
    "ALIVE have Living Characters as 1 and Deceased Characters as 0;  \n",
    "SEX have Male Characters as 1 and Female Characters as 0."
   ]
  },
  {
   "cell_type": "code",
   "execution_count": null,
   "metadata": {},
   "outputs": [],
   "source": [
    "view = model_align.view_data()\n",
    "display(view,df_comic[['ID','ALIVE','SEX','APPEARANCES']].head(10))"
   ]
  },
  {
   "cell_type": "markdown",
   "metadata": {},
   "source": [
    "As shown below, from the coefficient we can learn:\n",
    "- ID: Holding ALIVE, SEX, APPEARANCES constant, being public identity(0) increased the likelihood of being a good character.\n",
    "- ALIVE: Holding ID, SEX, APPEARANCES constant, being alive(1) increased the likelihood of being a good character.\n",
    "- SEX: Holding ID, ALIVE, APPEARANCES constant, being male characters(1) decreased the likelihood of being a good character.\n",
    "- APPEARANCES: Holding ID, SEX, ALIVE constant, the more appearances they have, the probability of being good character increase."
   ]
  },
  {
   "cell_type": "code",
   "execution_count": null,
   "metadata": {},
   "outputs": [],
   "source": [
    "model_align.coefficient()"
   ]
  },
  {
   "cell_type": "markdown",
   "metadata": {},
   "source": [
    "From the chart below we can verify the coefficient correlation.  \n",
    "For the y-axis of the chart is the predicted probability of the target value. Higher indicates more likely to be good characters. The x-axis is the categorical or numerical predictors.  \n",
    "- ID: Though it is not very clear of the distribution, but Public identity tends to have less low-value probability, and more high-value probability. This indicate being public identity(0) increased the likelihood of being a good character.\n",
    "- ALIVE: Though it is also not very clear of the distribution, but Living characters tends to have less low-value probability, and more high-value probability. This indicates being alive(1) increased the likelihood of being a good character.\n",
    "- SEX: Though it is also not very clear of the distribution, but Female characters tends to have less low-value probability, and more high-value probability. This indicates being male characters(1) decreased the likelihood of being a good character.\n",
    "- APPEARANCES: There is a clear positive correlation between APPEARANCES and ALIGN. The probability increases as the APPEARANCES increase. But the probability reaches top as APPEARANCES exceeds near 500."
   ]
  },
  {
   "cell_type": "code",
   "execution_count": null,
   "metadata": {},
   "outputs": [],
   "source": [
    "model_align.chart()"
   ]
  },
  {
   "cell_type": "markdown",
   "metadata": {},
   "source": [
    "Conclusion:  \n",
    "The 'ALIGN' prediction reveals correlations with different character attributes. The 'ID' feature demonstrates that characters with a 'Public Identity' tend to exhibit higher probabilities of being 'Good Characters,' contrasting those with 'Secret Identity.' Similarly, 'ALIVE' portrays a trend where living characters are more likely to be perceived as 'Good Characters' compared to deceased ones. Additionally, 'SEX' suggests a propensity for 'Female Characters' to lean towards being perceived as 'Good Characters' compared to their male counterparts.\n",
    "\n",
    "Moreover, the 'APPEARANCES' feature unveils a clear positive correlation with the likelihood of being a 'Good Character.' As the number of appearances increases, so does the probability of being classified as a 'Good Character.' However, it's notable that this probability appears to plateau as the number of appearances nears 500."
   ]
  },
  {
   "cell_type": "markdown",
   "metadata": {},
   "source": [
    "For a additional model building, we are going to try build a prediction model on the gross of the movie. Our goal is to __try to predict the gross of a movie based on the rating of the movie__ based on the data contained in the movie dataset.  \n",
    "First we need to look at the columns again and decide which columns we would choose to build the prediction model upon."
   ]
  },
  {
   "cell_type": "code",
   "execution_count": 3,
   "metadata": {},
   "outputs": [
    {
     "data": {
      "text/html": [
       "<div>\n",
       "<style scoped>\n",
       "    .dataframe tbody tr th:only-of-type {\n",
       "        vertical-align: middle;\n",
       "    }\n",
       "\n",
       "    .dataframe tbody tr th {\n",
       "        vertical-align: top;\n",
       "    }\n",
       "\n",
       "    .dataframe thead th {\n",
       "        text-align: right;\n",
       "    }\n",
       "</style>\n",
       "<table border=\"1\" class=\"dataframe\">\n",
       "  <thead>\n",
       "    <tr style=\"text-align: right;\">\n",
       "      <th></th>\n",
       "      <th>Unnamed: 0</th>\n",
       "      <th>title</th>\n",
       "      <th>year</th>\n",
       "      <th>genre</th>\n",
       "      <th>runtime</th>\n",
       "      <th>imdb_rating</th>\n",
       "      <th>imdb_gross</th>\n",
       "      <th>tomato_meter</th>\n",
       "      <th>tom_aud_score</th>\n",
       "      <th>entity</th>\n",
       "      <th>id</th>\n",
       "      <th>average_rating</th>\n",
       "    </tr>\n",
       "  </thead>\n",
       "  <tbody>\n",
       "    <tr>\n",
       "      <th>0</th>\n",
       "      <td>0</td>\n",
       "      <td>Ant-Man</td>\n",
       "      <td>2015</td>\n",
       "      <td>Action, Adventure, Comedy</td>\n",
       "      <td>117</td>\n",
       "      <td>73.0</td>\n",
       "      <td>180200000.0</td>\n",
       "      <td>83</td>\n",
       "      <td>86</td>\n",
       "      <td>1</td>\n",
       "      <td>38</td>\n",
       "      <td>80.666667</td>\n",
       "    </tr>\n",
       "    <tr>\n",
       "      <th>1</th>\n",
       "      <td>1</td>\n",
       "      <td>Ant-Man and the Wasp</td>\n",
       "      <td>2018</td>\n",
       "      <td>Action, Adventure, Comedy</td>\n",
       "      <td>118</td>\n",
       "      <td>70.0</td>\n",
       "      <td>216650000.0</td>\n",
       "      <td>87</td>\n",
       "      <td>75</td>\n",
       "      <td>1</td>\n",
       "      <td>51</td>\n",
       "      <td>77.333333</td>\n",
       "    </tr>\n",
       "    <tr>\n",
       "      <th>2</th>\n",
       "      <td>2</td>\n",
       "      <td>Aquaman</td>\n",
       "      <td>2018</td>\n",
       "      <td>Action, Adventure, Fantasy</td>\n",
       "      <td>143</td>\n",
       "      <td>69.0</td>\n",
       "      <td>335060000.0</td>\n",
       "      <td>65</td>\n",
       "      <td>74</td>\n",
       "      <td>0</td>\n",
       "      <td>86</td>\n",
       "      <td>69.333333</td>\n",
       "    </tr>\n",
       "    <tr>\n",
       "      <th>3</th>\n",
       "      <td>3</td>\n",
       "      <td>Avengers: Age of Ultron</td>\n",
       "      <td>2015</td>\n",
       "      <td>Action, Adventure, Sci-Fi</td>\n",
       "      <td>141</td>\n",
       "      <td>73.0</td>\n",
       "      <td>459010000.0</td>\n",
       "      <td>76</td>\n",
       "      <td>83</td>\n",
       "      <td>1</td>\n",
       "      <td>37</td>\n",
       "      <td>77.333333</td>\n",
       "    </tr>\n",
       "    <tr>\n",
       "      <th>4</th>\n",
       "      <td>4</td>\n",
       "      <td>Avengers: Endgame</td>\n",
       "      <td>2019</td>\n",
       "      <td>Action, Adventure, Drama</td>\n",
       "      <td>181</td>\n",
       "      <td>84.0</td>\n",
       "      <td>858370000.0</td>\n",
       "      <td>94</td>\n",
       "      <td>90</td>\n",
       "      <td>1</td>\n",
       "      <td>54</td>\n",
       "      <td>89.333333</td>\n",
       "    </tr>\n",
       "  </tbody>\n",
       "</table>\n",
       "</div>"
      ],
      "text/plain": [
       "   Unnamed: 0                    title  year                       genre  \\\n",
       "0           0                  Ant-Man  2015   Action, Adventure, Comedy   \n",
       "1           1     Ant-Man and the Wasp  2018   Action, Adventure, Comedy   \n",
       "2           2                  Aquaman  2018  Action, Adventure, Fantasy   \n",
       "3           3  Avengers: Age of Ultron  2015   Action, Adventure, Sci-Fi   \n",
       "4           4        Avengers: Endgame  2019    Action, Adventure, Drama   \n",
       "\n",
       "   runtime  imdb_rating   imdb_gross  tomato_meter  tom_aud_score  entity  id  \\\n",
       "0      117         73.0  180200000.0            83             86       1  38   \n",
       "1      118         70.0  216650000.0            87             75       1  51   \n",
       "2      143         69.0  335060000.0            65             74       0  86   \n",
       "3      141         73.0  459010000.0            76             83       1  37   \n",
       "4      181         84.0  858370000.0            94             90       1  54   \n",
       "\n",
       "   average_rating  \n",
       "0       80.666667  \n",
       "1       77.333333  \n",
       "2       69.333333  \n",
       "3       77.333333  \n",
       "4       89.333333  "
      ]
     },
     "execution_count": 3,
     "metadata": {},
     "output_type": "execute_result"
    }
   ],
   "source": [
    "df_movie.head()"
   ]
  },
  {
   "cell_type": "markdown",
   "metadata": {},
   "source": [
    "Since there is no null value in the dataset, so there is no need for filtering data\n",
    "\n",
    "It seems the rating can be a good predictor of the gross of the movie. So we take imdb_rating as the predictor and see what is the relationship between imdb_rating and imdb_gross."
   ]
  },
  {
   "cell_type": "code",
   "execution_count": null,
   "metadata": {},
   "outputs": [],
   "source": [
    "import pandas as pd\n",
    "df_movie= pd.read_csv('mtest.csv')"
   ]
  },
  {
   "cell_type": "code",
   "execution_count": 2,
   "metadata": {},
   "outputs": [
    {
     "ename": "SyntaxError",
     "evalue": "'(' was never closed (model.py, line 219)",
     "output_type": "error",
     "traceback": [
      "Traceback \u001b[1;36m(most recent call last)\u001b[0m:\n",
      "\u001b[0m  File \u001b[0;32md:\\conda\\envs\\AP\\lib\\site-packages\\IPython\\core\\interactiveshell.py:3526\u001b[0m in \u001b[0;35mrun_code\u001b[0m\n    exec(code_obj, self.user_global_ns, self.user_ns)\u001b[0m\n",
      "\u001b[1;36m  Cell \u001b[1;32mIn[2], line 1\u001b[1;36m\n\u001b[1;33m    from src.hero_data.model import ModelBuilder\u001b[1;36m\n",
      "\u001b[1;36m  File \u001b[1;32md:\\YU\\Analytics Programming\\Ruoyu-Chen\\Hero_Analysis\\src\\hero_data\\model.py:219\u001b[1;36m\u001b[0m\n\u001b[1;33m    print(type(self.y_predict)\u001b[0m\n\u001b[1;37m         ^\u001b[0m\n\u001b[1;31mSyntaxError\u001b[0m\u001b[1;31m:\u001b[0m '(' was never closed\n"
     ]
    }
   ],
   "source": [
    "from src.hero_data.model import ModelBuilder\n",
    "\n",
    "movie_model=ModelBuilder(df_movie)\n",
    "movie_model.movie_gross_polynomial()"
   ]
  },
  {
   "cell_type": "code",
   "execution_count": null,
   "metadata": {},
   "outputs": [
    {
     "ename": "AttributeError",
     "evalue": "'DataFrame' object has no attribute 'ravel'",
     "output_type": "error",
     "traceback": [
      "\u001b[1;31m---------------------------------------------------------------------------\u001b[0m",
      "\u001b[1;31mAttributeError\u001b[0m                            Traceback (most recent call last)",
      "Cell \u001b[1;32mIn[3], line 1\u001b[0m\n\u001b[1;32m----> 1\u001b[0m \u001b[43mmovie_model\u001b[49m\u001b[38;5;241;43m.\u001b[39;49m\u001b[43maccuracy\u001b[49m\u001b[43m(\u001b[49m\u001b[43m)\u001b[49m\n",
      "File \u001b[1;32md:\\YU\\Analytics Programming\\Ruoyu-Chen\\Hero_Analysis\\src\\hero_data\\model.py:219\u001b[0m, in \u001b[0;36mModelBuilder.accuracy\u001b[1;34m(self)\u001b[0m\n\u001b[0;32m    218\u001b[0m \u001b[39mdef\u001b[39;00m \u001b[39maccuracy\u001b[39m(\u001b[39mself\u001b[39m):\n\u001b[1;32m--> 219\u001b[0m     result_df \u001b[39m=\u001b[39m pd\u001b[39m.\u001b[39mDataFrame({\u001b[39m'\u001b[39m\u001b[39my_test\u001b[39m\u001b[39m'\u001b[39m: \u001b[39mself\u001b[39;49m\u001b[39m.\u001b[39;49my_test\u001b[39m.\u001b[39;49mravel(), \u001b[39m'\u001b[39m\u001b[39mPredicted\u001b[39m\u001b[39m'\u001b[39m: \u001b[39mself\u001b[39m\u001b[39m.\u001b[39my_predict})\n\u001b[0;32m    221\u001b[0m     \u001b[39m# Scatter plot using Seaborn\u001b[39;00m\n\u001b[0;32m    222\u001b[0m     plt\u001b[39m.\u001b[39mfigure(figsize\u001b[39m=\u001b[39m(\u001b[39m10\u001b[39m, \u001b[39m6\u001b[39m))\n",
      "File \u001b[1;32md:\\conda\\envs\\AP\\lib\\site-packages\\pandas\\core\\generic.py:6204\u001b[0m, in \u001b[0;36mNDFrame.__getattr__\u001b[1;34m(self, name)\u001b[0m\n\u001b[0;32m   6197\u001b[0m \u001b[39mif\u001b[39;00m (\n\u001b[0;32m   6198\u001b[0m     name \u001b[39mnot\u001b[39;00m \u001b[39min\u001b[39;00m \u001b[39mself\u001b[39m\u001b[39m.\u001b[39m_internal_names_set\n\u001b[0;32m   6199\u001b[0m     \u001b[39mand\u001b[39;00m name \u001b[39mnot\u001b[39;00m \u001b[39min\u001b[39;00m \u001b[39mself\u001b[39m\u001b[39m.\u001b[39m_metadata\n\u001b[0;32m   6200\u001b[0m     \u001b[39mand\u001b[39;00m name \u001b[39mnot\u001b[39;00m \u001b[39min\u001b[39;00m \u001b[39mself\u001b[39m\u001b[39m.\u001b[39m_accessors\n\u001b[0;32m   6201\u001b[0m     \u001b[39mand\u001b[39;00m \u001b[39mself\u001b[39m\u001b[39m.\u001b[39m_info_axis\u001b[39m.\u001b[39m_can_hold_identifiers_and_holds_name(name)\n\u001b[0;32m   6202\u001b[0m ):\n\u001b[0;32m   6203\u001b[0m     \u001b[39mreturn\u001b[39;00m \u001b[39mself\u001b[39m[name]\n\u001b[1;32m-> 6204\u001b[0m \u001b[39mreturn\u001b[39;00m \u001b[39mobject\u001b[39;49m\u001b[39m.\u001b[39;49m\u001b[39m__getattribute__\u001b[39;49m(\u001b[39mself\u001b[39;49m, name)\n",
      "\u001b[1;31mAttributeError\u001b[0m: 'DataFrame' object has no attribute 'ravel'"
     ]
    }
   ],
   "source": [
    "movie_model.accuracy()"
   ]
  },
  {
   "cell_type": "markdown",
   "metadata": {},
   "source": [
    "# 5.Conclusion:   \n",
    "1. From the chart, it's evident that gender has some influence on the alignment of heroes. Transgender characters are exclusively categorized as \"Bad,\" which might suggest a specific portrayal or narrative in storytelling. Male characters demonstrate a larger percentage in the \"Bad\" category compared to female characters, indicating a potential bias or tendency toward portraying male characters in morally ambiguous or antagonistic roles. Notably, genderfluid characters predominantly fall under \"Neutral\" or \"Good\" alignments, suggesting a more varied or less stereotypical portrayal. Overall, while there seems to be some impact, additional analysis and exploration are crucial to better understand the relationship between gender and hero alignment.\n",
    "\n",
    "2. Based on the observation from the chart, it's apparent that Marvel portrays a larger number of heroes falling within gender and sexual minority categories compared to DC. Specifically, Marvel encompasses a more diverse representation across various gender and sexual minority types in their hero roster compared to DC. The absence of heroes falling under other GSM types within DC indicates a potential disparity in the representation of these minorities between the two comic publishers. As a conclusion, Marvel appears to have a comparatively more pronounced focus on gender and sexual minority representation in their superhero lineup compared to DC.\n",
    "\n",
    "\n",
    "3. Comedy tends to have the highest average ratings among superhero movie genres. This could be attributed to its wider appeal and relatability to diverse audiences. Conversely, Crime genres often portray darker themes and complex narratives, potentially limiting their audience reach and impacting their overall ratings, leading to lower average scores."
   ]
  },
  {
   "cell_type": "markdown",
   "metadata": {},
   "source": [
    "# Reference:\n",
    "dataset 1: https://github.com/fivethirtyeight/data/blob/master/comic-characters  \n",
    "dataset 2: https://drive.google.com/file/d/1wJvsXEctDJScS6dv9IvJy65Qr5LwQL8P/view  \n",
    "marvel-dc movies: https://medium.com/geekculture/marvel-vs-dc-data-analysis-in-python-e561cac72358  \n",
    "https://scikit-learn.org/stable/modules/cross_validation.html"
   ]
  },
  {
   "cell_type": "code",
   "execution_count": null,
   "metadata": {},
   "outputs": [],
   "source": [
    "df_movie['entity']= (df_movie['entity'] == 'MARVEL').astype(int)"
   ]
  },
  {
   "cell_type": "code",
   "execution_count": null,
   "metadata": {},
   "outputs": [],
   "source": [
    "# load the LogisticRegression() function from sklearn's 'linear_model' sub-library\n",
    "from sklearn.linear_model import LogisticRegression\n",
    "from sklearn.model_selection import train_test_split\n",
    "import pandas as pd\n",
    "from sklearn.pipeline import Pipeline\n",
    "from sklearn.compose import ColumnTransformer\n",
    "from sklearn.preprocessing import OneHotEncoder, StandardScaler\n",
    "from sklearn.impute import SimpleImputer\n",
    "from sklearn.ensemble import RandomForestRegressor\n",
    "from sklearn.model_selection import cross_val_score\n",
    "\n",
    "# Load your dataset (replace 'data' with your DataFrame)\n"
   ]
  },
  {
   "cell_type": "code",
   "execution_count": null,
   "metadata": {},
   "outputs": [],
   "source": [
    "df_movie[['imdb_rating','imdb_gross']]"
   ]
  },
  {
   "cell_type": "code",
   "execution_count": null,
   "metadata": {},
   "outputs": [],
   "source": [
    "X_train=X_train.values\n",
    "X_test=X_test.values\n",
    "y_test=y_test.values\n",
    "y_train=y_train.values\n",
    "X_train"
   ]
  },
  {
   "cell_type": "code",
   "execution_count": null,
   "metadata": {},
   "outputs": [],
   "source": [
    "from sklearn.linear_model import LinearRegression\n",
    "model = LinearRegression()\n",
    "model.fit(X_train, y_train)"
   ]
  },
  {
   "cell_type": "code",
   "execution_count": null,
   "metadata": {},
   "outputs": [],
   "source": [
    "model.score(X_train, y_train)"
   ]
  },
  {
   "cell_type": "code",
   "execution_count": null,
   "metadata": {},
   "outputs": [],
   "source": [
    "print(predictors)\n",
    "model.coef_"
   ]
  },
  {
   "cell_type": "code",
   "execution_count": null,
   "metadata": {},
   "outputs": [],
   "source": [
    "y_predict = model.predict(X_test)"
   ]
  },
  {
   "cell_type": "code",
   "execution_count": null,
   "metadata": {},
   "outputs": [],
   "source": [
    "from sklearn.metrics import mean_absolute_error, r2_score\n",
    "mae = mean_absolute_error(y_test, y_predict)\n",
    "r2 = r2_score(y_test, y_predict)\n",
    "print(\"Linear Regression MAE:\", mae)\n",
    "print(\"Linear Regression R-squared:\", r2)"
   ]
  }
 ],
 "metadata": {
  "kernelspec": {
   "display_name": "Python 3.10.13 ('AP')",
   "language": "python",
   "name": "python3"
  },
  "language_info": {
   "codemirror_mode": {
    "name": "ipython",
    "version": 3
   },
   "file_extension": ".py",
   "mimetype": "text/x-python",
   "name": "python",
   "nbconvert_exporter": "python",
   "pygments_lexer": "ipython3",
   "version": "3.10.13"
  },
  "orig_nbformat": 4,
  "vscode": {
   "interpreter": {
    "hash": "b1ed10256b798dfe2af017ac6cb23cd3655eebf7de92fb5ac9de5f54fe908f00"
   }
  }
 },
 "nbformat": 4,
 "nbformat_minor": 2
}
