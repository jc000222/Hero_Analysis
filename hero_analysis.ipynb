{
 "cells": [
  {
   "cell_type": "markdown",
   "metadata": {},
   "source": [
    "# Hero Analysis:\n",
    "### -Analytics Programming Project 1 & 3\n",
    "\n",
    "- Author: Ruoyu Chen\n",
    "\n",
    "- Github Repository: https://github.com/jc000222/Hero_analysis"
   ]
  },
  {
   "cell_type": "markdown",
   "metadata": {},
   "source": [
    "## Table of Contents\n",
    "\n",
    "- [1 Introduction](#1-introduction)\n",
    "- [2 Data Summary](#2-data-summary)\n",
    "- [3 Exploratory data analysis](#3-exploratory-data-analysis)\n",
    "    - [3.1 comic book superheroes](###21-dataset-1-comic-book-superheroes)\n",
    "        - [3.1.1 Sub-subsection One](######311-univariate-analysis)\n",
    "            - [page_id](#page_id)\n",
    "            - [name](#name)\n",
    "            - [urlslug](#urlslug)\n",
    "            - [ID](#id)\n",
    "            - [ALIGN](#align)\n",
    "            - [EYE](#eye)\n",
    "            - [HAIR](#hair)\n",
    "            - [SEX](#sex)\n",
    "            - [GSM](#gsm)\n",
    "            - [ALIVE](#alive)\n",
    "            - [APPEARANCES](#appearances)\n",
    "            - [FIRST APPEARANCE](#first-appearance)\n",
    "            - [YEAR](#year)\n",
    "            - [Comic](#comic)\n",
    "    - [3.2 Movie Superheroes](#32-dataset-2-movie-superheroes)\n",
    "    - [3.3 data-cleaning](#33-data-cleaning)\n",
    "- [4 Inference](#4-inference)\n",
    "- [5 Conclusion](#5conclusion)\n",
    "- [Reference](#reference)\n"
   ]
  },
  {
   "cell_type": "markdown",
   "metadata": {},
   "source": [
    "# 1. Introduction\n",
    "This analysis project focuses on exploring Marvel and DC superheroes using two datasets. The first dataset investigates hero popularity, longevity, and diversity aspects such as gender and sexual orientation. The second dataset dives into superhero movie industry by analyzing imdb and tamatoes ratings. By merging these datasets, the analysis aims to uncover the relationship between comic book heroes and movies those portrayed in.\n",
    "\n",
    "\n",
    "Main Research questions:\n",
    "1. Does gender have a relationship with the ID of the hero?\n",
    "2. Does gender affect the appearances of heros?\n",
    "2. Does GSM have a pattern on the scale of time?"
   ]
  },
  {
   "cell_type": "markdown",
   "metadata": {},
   "source": [
    "# 2. Data summary"
   ]
  },
  {
   "cell_type": "markdown",
   "metadata": {},
   "source": [
    "### 2.1 Dataset 1: comic book superheroes"
   ]
  },
  {
   "cell_type": "markdown",
   "metadata": {},
   "source": [
    "##### 2.1.1 Introduction\n",
    "This dataset contains data behind the story \"Comic Books Are Still Made By Men, For Men And About Men\". The data comes from Marvel Wikia and DC Wikia. The data is split into two files, for DC and Marvel, respectively: dc-wikia-data.csv and marvel-wikia-data.csv. \n",
    "\n",
    "Link: https://github.com/fivethirtyeight/data/blob/master/comic-characters/README.md\n",
    "\n",
    "##### 2.1.2 Data Variables:\n",
    "| Variable          | Description                                                                                  |\n",
    "|-------------------|----------------------------------------------------------------------------------------------|\n",
    "| page_id           | The unique identifier for that character's page within the wikia                             |\n",
    "| name              | The name of the character                                                                    |\n",
    "| urlslug           | The unique URL within the wikia that takes you to the character                              |\n",
    "| ID                | The identity status of the character (Secret Identity, Public identity, No Dual Identity)    |\n",
    "| ALIGN             | If the character is Good, Bad, or Neutral                                                    |\n",
    "| EYE               | Eye color of the character                                                                   |\n",
    "| HAIR              | Hair color of the character                                                                  |\n",
    "| SEX               | Sex of the character (e.g., Male, Female, etc.)                                              |\n",
    "| GSM               | If the character is a gender or sexual minority (e.g., Homosexual characters, bisexual...)   |\n",
    "| ALIVE             | If the character is alive or deceased                                                        |\n",
    "| APPEARANCES       | The number of appearances of the character in comic books                                    |\n",
    "| FIRST APPEARANCE  | The month and year of the character's first appearance in a comic book                       |\n",
    "| YEAR              | The year of the character's first appearance in a comic book                                 |\n",
    "\n"
   ]
  },
  {
   "cell_type": "markdown",
   "metadata": {},
   "source": [
    "##### 2.1.3 Data Combine\n",
    "The dataset has two csv files. For better analysis, read the csv and combine them into single dataframe and add a \"Comic\" column to indicate whether the hero is from Marvel or DC."
   ]
  },
  {
   "cell_type": "code",
   "execution_count": null,
   "metadata": {},
   "outputs": [],
   "source": [
    "from src.hero_data.Data_Sum.data_sum import Reader\n",
    "data_url= ['https://raw.githubusercontent.com/fivethirtyeight/data/master/comic-characters/dc-wikia-data.csv',\n",
    "           'https://raw.githubusercontent.com/fivethirtyeight/data/master/comic-characters/marvel-wikia-data.csv']\n",
    "\n",
    "reader_comic = Reader(data_url)\n",
    "df_comic_raw = reader_comic.combiner()"
   ]
  },
  {
   "cell_type": "markdown",
   "metadata": {},
   "source": [
    "##### 2.1.4 Data Overview\n",
    "Check the first 5 rows of the dataset"
   ]
  },
  {
   "cell_type": "code",
   "execution_count": null,
   "metadata": {},
   "outputs": [],
   "source": [
    "\n",
    "df_comic_raw.head()\n"
   ]
  },
  {
   "cell_type": "markdown",
   "metadata": {},
   "source": [
    "##### 2.1.5 Use Case: \n",
    "This dataset contains data behind the story 'Comic Books Are Still Made By Men, For Men And About Men'. This article from highlights the underrepresentation of women in the comic book industry, both as creators and characters. It discusses efforts by major comic publishers to diversify their offerings but notes that there is still a significant gender disparity in the field. \n",
    "- Use case attribures:   \n",
    "The use case has attributes of gender, year of appearance, sex and GSM.\n",
    "- Use case attribures data type:  \n",
    "Gender, sex and GSM are catagorical data. Year of appearance is numeric.\n",
    "- Use case link: https://fivethirtyeight.com/features/women-in-comic-books/"
   ]
  },
  {
   "cell_type": "markdown",
   "metadata": {},
   "source": [
    "##### 2.2.1 Introduction\n",
    "This dataset contains the movies of Marvel and DC.\n",
    "\n",
    "Link: https://drive.google.com/file/d/1wJvsXEctDJScS6dv9IvJy65Qr5LwQL8P/view\n",
    "\n",
    "##### 2.2.2 Data Variables:\n",
    "| Variable          | Description                                                                                  |\n",
    "|-------------------|----------------------------------------------------------------------------------------------|\n",
    "| title             | Title of the movie                                                                           |\n",
    "| year              | Year the movie was released                                                                  |\n",
    "| genre             | Genre of the movie                                                                           |\n",
    "| runtime           | Duration of the movie in minutes                                                             |\n",
    "| mpa_rating        | MPAA rating (e.g., PG-13, R, etc.)                                                           |\n",
    "| imdb_rating       | IMDb rating of the movie                                                                     |\n",
    "| imdb_votes        | Number of votes the movie received on IMDb                                                   |\n",
    "| imdb_gross        | Gross earnings of the movie according to IMDb                                                |\n",
    "| director          | Director(s) of the movie                                                                     |\n",
    "| stars             | Main actors or stars in the movie                                                            |\n",
    "| description       | Brief description or summary of the movie                                                    |\n",
    "| crit_consensus    | Critical consensus or summary of critical reviews about the movie                            |\n",
    "| tomato_meter      | Rotten Tomatoes meter score                                                                  |\n",
    "| tomato_review     | Number of reviews on Rotten Tomatoes                                                         |\n",
    "| tom_aud_score     | Rotten Tomatoes audience score                                                               |\n",
    "| tom_ratings       | Total number of ratings on Rotten Tomatoes                                                   |\n",
    "| entity            | Whether it is a Marvel movie or DC movie                                                     |\n",
    "| id                | Unique identifier or ID for the movie                                                        |\n",
    "\n",
    "##### 2.2.3 Data Overview\n",
    "Check the first 5 rows of the dataset"
   ]
  },
  {
   "cell_type": "code",
   "execution_count": null,
   "metadata": {},
   "outputs": [],
   "source": [
    "data= 'src/hero_data/data/marvelvsdc.csv'\n",
    "\n",
    "reader_movie = Reader(data)\n",
    "df_movie_raw = reader_movie.reader()\n",
    "df_movie_raw.head()"
   ]
  },
  {
   "cell_type": "markdown",
   "metadata": {},
   "source": [
    "# 3 Exploratory data analysis\n",
    "### 3.1 Dataset 1: comic book superheroes\n",
    "\n"
   ]
  },
  {
   "cell_type": "code",
   "execution_count": null,
   "metadata": {},
   "outputs": [],
   "source": [
    "from src.hero_data.EDA.per_colum import EDA_per_column\n",
    "\n",
    "eda_comics = EDA_per_column(df_comic_raw)"
   ]
  },
  {
   "cell_type": "markdown",
   "metadata": {},
   "source": [
    "##### 3.1.1 Univariate Analysis\n",
    "In this part, the analysis will go through all the columns in the dataset to get a basic understanding.\n",
    "\n"
   ]
  },
  {
   "cell_type": "markdown",
   "metadata": {},
   "source": [
    "##### - Page_id:   \n",
    "Description:&nbsp;The unique identifier for that character's page within the wikia  \n",
    "Explaination:The id has no meaning for analysis thus this column can be dropped."
   ]
  },
  {
   "cell_type": "markdown",
   "metadata": {},
   "source": [
    "##### - name:   \n",
    "Description:&nbsp;The name of the character.  \n",
    "Explaination:There are 23272 unique superhero names."
   ]
  },
  {
   "cell_type": "code",
   "execution_count": null,
   "metadata": {},
   "outputs": [],
   "source": [
    "df_comic_raw['name'].describe()"
   ]
  },
  {
   "cell_type": "markdown",
   "metadata": {},
   "source": [
    "##### - urlslug:   \n",
    "Description:&nbsp;The unique URL within the wikia that takes you to the character.  \n",
    "Explaination:The URL of Wekia has no meaning for analysis thus this column can be dropped."
   ]
  },
  {
   "cell_type": "markdown",
   "metadata": {},
   "source": [
    "##### - ID:   \n",
    "Description:&nbsp;The identity status of the character (Secret Identity, Public identity, No Dual Identity).  \n",
    "This is a categorical variable, use value_counts() to see the value under each category. As shown, there are 5 category for the identity status.  "
   ]
  },
  {
   "cell_type": "code",
   "execution_count": null,
   "metadata": {},
   "outputs": [],
   "source": [
    "df_comic_raw['ID'].value_counts()"
   ]
  },
  {
   "cell_type": "markdown",
   "metadata": {},
   "source": [
    "The code below shows the percentage of each category. The mojority of heroes are Secret Identity, with almost 50% of all heroes; followed by Public Identity up to 40%. While minority are No Dual Identity, Known to Authorities Identity or Identity Unknown."
   ]
  },
  {
   "cell_type": "code",
   "execution_count": null,
   "metadata": {},
   "outputs": [],
   "source": [
    "eda_comics.cat_percentage('ID')"
   ]
  },
  {
   "cell_type": "markdown",
   "metadata": {},
   "source": [
    "Plot these results and visuallize the data with barplot through Matplotlib and Seaborn."
   ]
  },
  {
   "cell_type": "code",
   "execution_count": null,
   "metadata": {},
   "outputs": [],
   "source": [
    "eda_comics.bar_chart('ID')"
   ]
  },
  {
   "cell_type": "markdown",
   "metadata": {},
   "source": [
    "It seems that there are less row of data than expected. Check the number of NULL data by isna(). It indicates that there are 5783 rows of null data. "
   ]
  },
  {
   "cell_type": "code",
   "execution_count": null,
   "metadata": {},
   "outputs": [],
   "source": [
    "df_comic_raw['ID'].isna().value_counts()"
   ]
  },
  {
   "cell_type": "markdown",
   "metadata": {},
   "source": [
    "##### - ALIGN:   \n",
    "Description:&nbsp;If the character is Good, Bad, or Neutral.  \n",
    "This is a categorical variable, use value_counts() to see the value under each category. As shown, there are 4 category for the align status.  "
   ]
  },
  {
   "cell_type": "code",
   "execution_count": null,
   "metadata": {},
   "outputs": [],
   "source": [
    "df_comic_raw['ALIGN'].value_counts()"
   ]
  },
  {
   "cell_type": "markdown",
   "metadata": {},
   "source": [
    "The code below shows the percentage of each category. The mojority of heroes are Bad Characters, for almost 50% of the heroes. Followed by 37% of Good Characters, while minority are Neutral Characters or Reformed Criminals."
   ]
  },
  {
   "cell_type": "code",
   "execution_count": null,
   "metadata": {},
   "outputs": [],
   "source": [
    "eda_comics.cat_percentage('ALIGN')"
   ]
  },
  {
   "cell_type": "markdown",
   "metadata": {},
   "source": [
    "Plot these results and visuallize the data with barplot through Matplotlib and Seaborn."
   ]
  },
  {
   "cell_type": "code",
   "execution_count": null,
   "metadata": {},
   "outputs": [],
   "source": [
    "eda_comics.bar_chart('ALIGN')"
   ]
  },
  {
   "cell_type": "markdown",
   "metadata": {},
   "source": [
    "It seems that there are less row of data than expected. Check the number of NULL data by isna(). It indicates that there are 3413 rows of null data. "
   ]
  },
  {
   "cell_type": "code",
   "execution_count": null,
   "metadata": {},
   "outputs": [],
   "source": [
    "df_comic_raw['ALIGN'].isna().value_counts()"
   ]
  },
  {
   "cell_type": "markdown",
   "metadata": {},
   "source": [
    "##### - EYE:   \n",
    "Description:&nbsp;Eye color of the character.  \n",
    "This is also a categorical variable, but with 26 different eye colors. See the category count by describe().  \n",
    "The most eye color is blue, with 3064 heroes."
   ]
  },
  {
   "cell_type": "code",
   "execution_count": null,
   "metadata": {},
   "outputs": [],
   "source": [
    "df_comic_raw['EYE'].describe()"
   ]
  },
  {
   "cell_type": "markdown",
   "metadata": {},
   "source": [
    "Plot these results and visuallize the data with barplot through Matplotlib and Seaborn."
   ]
  },
  {
   "cell_type": "code",
   "execution_count": null,
   "metadata": {},
   "outputs": [],
   "source": [
    "eda_comics.barh_chart('EYE')"
   ]
  },
  {
   "cell_type": "markdown",
   "metadata": {},
   "source": [
    "It seems that there are less row of data than expected. Check the number of NULL data by isna(). It indicates that there are 9877 rows of null data. "
   ]
  },
  {
   "cell_type": "code",
   "execution_count": null,
   "metadata": {},
   "outputs": [],
   "source": [
    "df_comic_raw['EYE'].isna().value_counts()"
   ]
  },
  {
   "cell_type": "markdown",
   "metadata": {},
   "source": [
    "##### - HAIR:   \n",
    "Description:&nbsp;Hair color of the character.  \n",
    "This is also a categorical variable, but with 28 different hair colors. See the category count by describe().  \n",
    "The most hair color is black hair, with 5329 heroes."
   ]
  },
  {
   "cell_type": "code",
   "execution_count": null,
   "metadata": {},
   "outputs": [],
   "source": [
    "df_comic_raw['HAIR'].describe()"
   ]
  },
  {
   "cell_type": "markdown",
   "metadata": {},
   "source": [
    "Plot these results and visuallize the data with barplot through Matplotlib and Seaborn."
   ]
  },
  {
   "cell_type": "code",
   "execution_count": null,
   "metadata": {},
   "outputs": [],
   "source": [
    "eda_comics.barh_chart('HAIR')"
   ]
  },
  {
   "cell_type": "markdown",
   "metadata": {},
   "source": [
    "It seems that there are less row of data than expected. Check the number of NULL data by isna(). It indicates that there are 6538 rows of null data. "
   ]
  },
  {
   "cell_type": "code",
   "execution_count": null,
   "metadata": {},
   "outputs": [],
   "source": [
    "df_comic_raw['HAIR'].isna().value_counts()"
   ]
  },
  {
   "cell_type": "markdown",
   "metadata": {},
   "source": [
    "##### - SEX:   \n",
    "Description:&nbsp;Sex of the character (e.g., Male, Female, etc.)  \n",
    "This is a categorical variable, use value_counts() to see the value under each category. As shown, there are 4 category for the align status.  "
   ]
  },
  {
   "cell_type": "code",
   "execution_count": null,
   "metadata": {},
   "outputs": [],
   "source": [
    "df_comic_raw['SEX'].value_counts()"
   ]
  },
  {
   "cell_type": "markdown",
   "metadata": {},
   "source": [
    "The code below shows the percentage of each category. The mojority of heroes are Male Characters, for 73% of the heroes, followed by 26% of Female Characters. While minority are Agender Characters, Genderfluid, Characters and Transgender Characters."
   ]
  },
  {
   "cell_type": "code",
   "execution_count": null,
   "metadata": {},
   "outputs": [],
   "source": [
    "eda_comics.cat_percentage('SEX')"
   ]
  },
  {
   "cell_type": "markdown",
   "metadata": {},
   "source": [
    "Plot these results and visuallize the data with barplot through Matplotlib and Seaborn."
   ]
  },
  {
   "cell_type": "code",
   "execution_count": null,
   "metadata": {},
   "outputs": [],
   "source": [
    "eda_comics.bar_chart('SEX')"
   ]
  },
  {
   "cell_type": "markdown",
   "metadata": {},
   "source": [
    "It seems that there are less row of data than expected. Check the number of NULL data by isna(). It indicates that there are 979 rows of null data. "
   ]
  },
  {
   "cell_type": "code",
   "execution_count": null,
   "metadata": {},
   "outputs": [],
   "source": [
    "df_comic_raw['SEX'].isna().value_counts()"
   ]
  },
  {
   "cell_type": "markdown",
   "metadata": {},
   "source": [
    "##### - GSM:   \n",
    "Description:&nbsp; If the character is a gender or sexual minority (e.g., Homosexual characters, bisexual...)  \n",
    "This is a categorical variable, use value_counts() to see the value under each category. As shown, there are 6 category for the GSM. Very little heroes have data on this column, and the most is Homosexual Characters."
   ]
  },
  {
   "cell_type": "code",
   "execution_count": null,
   "metadata": {},
   "outputs": [],
   "source": [
    "df_comic_raw['GSM'].value_counts()"
   ]
  },
  {
   "cell_type": "markdown",
   "metadata": {},
   "source": [
    "Plot these results and visuallize the data with barplot through Matplotlib and Seaborn."
   ]
  },
  {
   "cell_type": "code",
   "execution_count": null,
   "metadata": {},
   "outputs": [],
   "source": [
    "eda_comics.barh_chart('GSM')"
   ]
  },
  {
   "cell_type": "markdown",
   "metadata": {},
   "source": [
    "##### - ALIVE:   \n",
    "Description:&nbsp; If the character is alive or deceased  \n",
    "This is a categorical variable, use value_counts() to see the value under each category. As shown, there are 2 category for the ALIVE status. "
   ]
  },
  {
   "cell_type": "code",
   "execution_count": null,
   "metadata": {},
   "outputs": [],
   "source": [
    "df_comic_raw['ALIVE'].value_counts()"
   ]
  },
  {
   "cell_type": "markdown",
   "metadata": {},
   "source": [
    "The code below shows the percentage of the two category. The mojority of heroes are Living Characters, for 76% of the heroes, the remaining are Deceased Characters."
   ]
  },
  {
   "cell_type": "code",
   "execution_count": null,
   "metadata": {},
   "outputs": [],
   "source": [
    "eda_comics.cat_percentage('ALIVE')"
   ]
  },
  {
   "cell_type": "markdown",
   "metadata": {},
   "source": [
    "Plot these results and visuallize the data with barplot through Matplotlib and Seaborn."
   ]
  },
  {
   "cell_type": "code",
   "execution_count": null,
   "metadata": {},
   "outputs": [],
   "source": [
    "eda_comics.bar_chart('ALIVE')"
   ]
  },
  {
   "cell_type": "markdown",
   "metadata": {},
   "source": [
    "##### - APPEARANCES:   \n",
    "Description:&nbsp; The number of appearances of the character in comic books  \n",
    "This is a numerical variable, use describe() to get an overview of the column. As shown, there are 2 category for the ALIVE status.  \n",
    "The average count in these records is around 19, with a notable variability indicated by the standard deviation of 93.81. The range of APPEARANCES spans from a minimum of 1 to a maximum of 4043, suggesting a wide diversity; The distribution indicates that most values (75%) fall within 1-10, meaning most APPEARANCES is at a small number."
   ]
  },
  {
   "cell_type": "code",
   "execution_count": null,
   "metadata": {},
   "outputs": [],
   "source": [
    "df_comic_raw['APPEARANCES'].describe()"
   ]
  },
  {
   "cell_type": "markdown",
   "metadata": {},
   "source": [
    "Plot these results and visuallize the data with histogram through Matplotlib and Seaborn."
   ]
  },
  {
   "cell_type": "code",
   "execution_count": null,
   "metadata": {},
   "outputs": [],
   "source": [
    "eda_comics.hist_chart('APPEARANCES')"
   ]
  },
  {
   "cell_type": "markdown",
   "metadata": {},
   "source": [
    "##### - FIRST APPEARANCE:   \n",
    "Description:&nbsp; The month and year of the character's first appearance in a comic book.  \n",
    "This data is exactly the same as next column. Month is not meaningful to this analysis, so it can be dropped."
   ]
  },
  {
   "cell_type": "code",
   "execution_count": null,
   "metadata": {},
   "outputs": [],
   "source": [
    "df_comic_raw['FIRST APPEARANCE'].head()"
   ]
  },
  {
   "cell_type": "markdown",
   "metadata": {},
   "source": [
    "##### - YEAR:   \n",
    "Description:&nbsp; The month and year of the character's first appearance in a comic book.  \n",
    "The year varies from 1935 to 2013. And from the value_counts() we get the number of heroes that are introduced in that year."
   ]
  },
  {
   "cell_type": "code",
   "execution_count": null,
   "metadata": {},
   "outputs": [],
   "source": [
    "df_comic_raw['YEAR'].value_counts().sort_index()"
   ]
  },
  {
   "cell_type": "markdown",
   "metadata": {},
   "source": [
    "Plot these results and visuallize the data with line chart through Matplotlib and Seaborn."
   ]
  },
  {
   "cell_type": "code",
   "execution_count": null,
   "metadata": {},
   "outputs": [],
   "source": [
    "eda_comics.line_chart('YEAR')"
   ]
  },
  {
   "cell_type": "markdown",
   "metadata": {},
   "source": [
    "- Comic:   \n",
    "Description:&nbsp; If the character is from Marvel or DC.  \n",
    "This is a categorical variable, use value_counts() to see the value under each category. As shown, there are 2 category for the ALIVE status. "
   ]
  },
  {
   "cell_type": "code",
   "execution_count": null,
   "metadata": {},
   "outputs": [],
   "source": [
    "df_comic_raw['Comic'].value_counts()"
   ]
  },
  {
   "cell_type": "markdown",
   "metadata": {},
   "source": [
    "The code below shows the percentage of two category. The mojority of heroes are Marvel Characters, for almost 70% of the heroes. Followed by almost 30% of DC Characters."
   ]
  },
  {
   "cell_type": "code",
   "execution_count": null,
   "metadata": {},
   "outputs": [],
   "source": [
    "eda_comics.cat_percentage('Comic')"
   ]
  },
  {
   "cell_type": "markdown",
   "metadata": {},
   "source": [
    "Plot these results and visuallize the data with barplot through Matplotlib and Seaborn."
   ]
  },
  {
   "cell_type": "code",
   "execution_count": null,
   "metadata": {},
   "outputs": [],
   "source": [
    "eda_comics.bar_chart('Comic')"
   ]
  },
  {
   "cell_type": "markdown",
   "metadata": {},
   "source": [
    "##### 3.1.2 Bivariate Analysis\n",
    "In this part, the analysis will go through some columns in the dataset to get a basic understanding.\n"
   ]
  },
  {
   "cell_type": "code",
   "execution_count": null,
   "metadata": {},
   "outputs": [],
   "source": [
    "from src.hero_data.EDA.multi_coumun import EDA_multi_column\n",
    "\n",
    "eda_comics_m = EDA_multi_column(df_comic_raw)"
   ]
  },
  {
   "cell_type": "markdown",
   "metadata": {},
   "source": [
    "##### -ALIGN & ID\n",
    "The Bivariate Analysis for character ALIGN and identity shows us that a vast majority of the bad characters tend to have secret identity. The proportion of Secret and Public identity are less drastic for good characters."
   ]
  },
  {
   "cell_type": "code",
   "execution_count": null,
   "metadata": {},
   "outputs": [],
   "source": [
    "eda_comics_m.bar_chart_m(['ALIGN','ID'])"
   ]
  },
  {
   "cell_type": "markdown",
   "metadata": {},
   "source": [
    "##### -ALIVE& ALIGN \n",
    "The Bivariate Analysis for character ALIGN and whether alive shows us that a vast majority characters are alive. And Bad characters tend to have more deceased. "
   ]
  },
  {
   "cell_type": "code",
   "execution_count": null,
   "metadata": {},
   "outputs": [],
   "source": [
    "eda_comics_m.bar_chart_m(['ALIVE','ALIGN'])"
   ]
  },
  {
   "cell_type": "markdown",
   "metadata": {},
   "source": [
    "### 3.2 Dataset 2: movie superheroes\n"
   ]
  },
  {
   "cell_type": "markdown",
   "metadata": {},
   "source": [
    "##### 3.2.1 Univariate Analysis\n",
    "In this part, the analysis will go through all the columns in the dataset to get a basic understanding."
   ]
  },
  {
   "cell_type": "code",
   "execution_count": null,
   "metadata": {},
   "outputs": [],
   "source": [
    "eda_movies = EDA_per_column(df_movie_raw)"
   ]
  },
  {
   "cell_type": "markdown",
   "metadata": {},
   "source": [
    "##### - title\n",
    "Description: Title of the movie.  \n",
    "There are 89 different superhero movies. The strange thing is that there are 2 movies that has same name."
   ]
  },
  {
   "cell_type": "code",
   "execution_count": null,
   "metadata": {},
   "outputs": [],
   "source": [
    "df_movie_raw['title'].describe()"
   ]
  },
  {
   "cell_type": "markdown",
   "metadata": {},
   "source": [
    "##### - year\n",
    "Description: Year the movie was released  \n",
    "The year varies from 1944 to 2020. And from the value_counts() we get the number of movies that are screened in that year."
   ]
  },
  {
   "cell_type": "code",
   "execution_count": null,
   "metadata": {},
   "outputs": [],
   "source": [
    "display(df_movie_raw['year'].value_counts().sort_index().head(5))\n",
    "display(df_movie_raw['year'].value_counts().sort_index().tail(5))"
   ]
  },
  {
   "cell_type": "markdown",
   "metadata": {},
   "source": [
    "Plot these results and visuallize the data with line chart through Matplotlib and Seaborn."
   ]
  },
  {
   "cell_type": "code",
   "execution_count": null,
   "metadata": {},
   "outputs": [],
   "source": [
    "eda_movies.line_chart('year')"
   ]
  },
  {
   "cell_type": "markdown",
   "metadata": {},
   "source": [
    "##### - genre:   \n",
    "Description:&nbsp; Genre of the movie  \n",
    "This is a categorical variable, use value_counts() to see the value under each category. As shown, there are many category for the genre. The data is aggregated and can be melt down to a better view."
   ]
  },
  {
   "cell_type": "code",
   "execution_count": null,
   "metadata": {},
   "outputs": [],
   "source": [
    "df_movie_raw['genre'].value_counts()"
   ]
  },
  {
   "cell_type": "markdown",
   "metadata": {},
   "source": [
    "##### - runtime:   \n",
    "Description:&nbsp; Duration of the movie in minutes.  \n",
    "This is a numerical variable, use describe() to see the value distribution. As shown, it contains 90 rows of data. The average runtime of the movies is approximately 124.14 minutes, with a standard deviation of 23.52 minutes. The shortest movie in the dataset runs for 58 minutes, while the longest runs for 244 minutes."
   ]
  },
  {
   "cell_type": "code",
   "execution_count": null,
   "metadata": {},
   "outputs": [],
   "source": [
    "df_movie_raw['runtime'].describe()"
   ]
  },
  {
   "cell_type": "markdown",
   "metadata": {},
   "source": [
    "Plot these results and visuallize the data with boxplot through Matplotlib and Seaborn."
   ]
  },
  {
   "cell_type": "code",
   "execution_count": null,
   "metadata": {},
   "outputs": [],
   "source": [
    "eda_movies.boxplot_chart('runtime')"
   ]
  },
  {
   "cell_type": "markdown",
   "metadata": {},
   "source": [
    "##### - mpa_rating:   \n",
    "Description:&nbsp; MPAA rating (e.g., PG-13, R, etc.)  \n",
    "This is a categorical variable, use value_count() to see the value distribution. As shown, the most of movie ratings by MPAA is with a PG-13 rating, constituting 67 movies. Followed by R-rated movies, comprising 12 movies. While PG-rated films and those marked as 'Approved' or 'Passed' account for 9 and 1 each, respectively."
   ]
  },
  {
   "cell_type": "code",
   "execution_count": null,
   "metadata": {},
   "outputs": [],
   "source": [
    "df_movie_raw['mpa_rating'].value_counts()"
   ]
  },
  {
   "cell_type": "markdown",
   "metadata": {},
   "source": [
    "Plot these results and visuallize the data with barplot through Matplotlib and Seaborn."
   ]
  },
  {
   "cell_type": "code",
   "execution_count": null,
   "metadata": {},
   "outputs": [],
   "source": [
    "eda_movies.bar_chart('mpa_rating')"
   ]
  },
  {
   "cell_type": "markdown",
   "metadata": {},
   "source": [
    "##### - imdb_rating:   \n",
    "Description:&nbsp; IMDb rating of the movie  \n",
    "This is a numerical variable, use describe() to see the value distribution. As shown, the ratings range from a minimum of 2.9 to a maximum of 9.0."
   ]
  },
  {
   "cell_type": "code",
   "execution_count": null,
   "metadata": {},
   "outputs": [],
   "source": [
    "df_movie_raw['imdb_rating'].describe()"
   ]
  },
  {
   "cell_type": "markdown",
   "metadata": {},
   "source": [
    "Plot these results and visuallize the data with histogram through Matplotlib and Seaborn."
   ]
  },
  {
   "cell_type": "code",
   "execution_count": null,
   "metadata": {},
   "outputs": [],
   "source": [
    "eda_movies.hist_chart('imdb_rating')"
   ]
  },
  {
   "cell_type": "markdown",
   "metadata": {},
   "source": [
    "##### - imdb_votes:   \n",
    "Description:&nbsp; Number of votes the movie received on IMDb  \n",
    "This is a numerical variable, use describe() to see the value distribution. As shown, the vote has a mean of approximately 465,283. The votes vary widely, with the smallest at 844 and the largest reaching 2.37 million. "
   ]
  },
  {
   "cell_type": "code",
   "execution_count": null,
   "metadata": {},
   "outputs": [],
   "source": [
    "df_movie_raw['imdb_votes'].describe()"
   ]
  },
  {
   "cell_type": "markdown",
   "metadata": {},
   "source": [
    "##### - imdb_gross:   \n",
    "Description:&nbsp; Gross earnings of the movie according to IMDb  \n",
    "This is a numerical variable, use describe() to see the value distribution. As shown, mean gross revenue is around $212,368,200 and standard deviation is approximately $173,757,600. The minimum value is $0, indicating there might be missing or unrecorded data points, while the maximum gross is approximately $858,370,000. "
   ]
  },
  {
   "cell_type": "code",
   "execution_count": null,
   "metadata": {},
   "outputs": [],
   "source": [
    "df_movie_raw['imdb_gross'].describe()"
   ]
  },
  {
   "cell_type": "code",
   "execution_count": null,
   "metadata": {},
   "outputs": [],
   "source": [
    "eda_movies.hist_chart('imdb_gross')"
   ]
  },
  {
   "cell_type": "markdown",
   "metadata": {},
   "source": [
    "##### - director:   \n",
    "Description:&nbsp; Director(s) of the movie  \n",
    "The Director of movies is not relevant for this analysis thus this column can be dropped."
   ]
  },
  {
   "cell_type": "markdown",
   "metadata": {},
   "source": [
    "##### - stars:   \n",
    "Description:&nbsp; Main actors or stars in the movie  \n",
    "The stars of movies is not relevant for this analysis thus this column can be dropped."
   ]
  },
  {
   "cell_type": "markdown",
   "metadata": {},
   "source": [
    "##### - description:   \n",
    "Description:&nbsp; Brief description or summary of the movie  \n",
    "The description of movies is not relevant for this analysis thus this column can be dropped."
   ]
  },
  {
   "cell_type": "markdown",
   "metadata": {},
   "source": [
    "##### - crit_consensus:   \n",
    "Description:&nbsp;  Critical consensus or summary of critical reviews about the movie.  \n",
    "The crit_consensus of movies is not relevant for this analysis thus this column can be dropped."
   ]
  },
  {
   "cell_type": "markdown",
   "metadata": {},
   "source": [
    "##### - tomato_meter:   \n",
    "Description:&nbsp; Rotten Tomatoes meter score.  \n",
    "This is a numerical variable, use describe() to see the value distribution."
   ]
  },
  {
   "cell_type": "code",
   "execution_count": null,
   "metadata": {},
   "outputs": [],
   "source": [
    "df_movie_raw['tomato_meter'].describe()"
   ]
  },
  {
   "cell_type": "markdown",
   "metadata": {},
   "source": [
    "##### - tom_aud_score:   \n",
    "Description:&nbsp; Rotten Tomatoes audience score.  \n",
    "This is a numerical variable, use describe() to see the value distribution."
   ]
  },
  {
   "cell_type": "code",
   "execution_count": null,
   "metadata": {},
   "outputs": [],
   "source": [
    "df_movie_raw['tom_aud_score'].describe()"
   ]
  },
  {
   "cell_type": "markdown",
   "metadata": {},
   "source": [
    "##### - tomato_review:   \n",
    "Description:&nbsp; Number of reviews on Rotten Tomatoes  \n",
    "The tomato_review of movies is not relevant for this analysis thus this column can be dropped."
   ]
  },
  {
   "cell_type": "markdown",
   "metadata": {},
   "source": [
    "##### - tom_ratings:   \n",
    "Description:&nbsp; Total number of ratings on Rotten Tomatoes  \n",
    "The tom_ratings of movies is not relevant for this analysis thus this column can be dropped."
   ]
  },
  {
   "cell_type": "markdown",
   "metadata": {},
   "source": [
    "##### - entity:   \n",
    "Description:&nbsp; Whether it is a Marvel movie or DC movie.  \n",
    "This is a categorical variable, use value_counts() to see the value under each category. As shown, there are 5 category for the identity status.  "
   ]
  },
  {
   "cell_type": "code",
   "execution_count": null,
   "metadata": {},
   "outputs": [],
   "source": [
    "df_movie_raw['entity'].value_counts()"
   ]
  },
  {
   "cell_type": "code",
   "execution_count": null,
   "metadata": {},
   "outputs": [],
   "source": [
    "eda_movies.bar_chart('entity')"
   ]
  },
  {
   "cell_type": "markdown",
   "metadata": {},
   "source": [
    "##### - id:   \n",
    "Description:&nbsp; Unique identifier or ID for the movie.  \n",
    "The id of movies is not relevant for this analysis."
   ]
  },
  {
   "cell_type": "markdown",
   "metadata": {},
   "source": [
    "##### 3.1.2 Bivariate Analysis\n",
    "In this part, the analysis will go through some columns in the dataset to get a basic understanding.\n"
   ]
  },
  {
   "cell_type": "code",
   "execution_count": null,
   "metadata": {},
   "outputs": [],
   "source": [
    "from src.hero_data.EDA.multi_coumun import EDA_multi_column\n",
    "\n",
    "eda_movies_m = EDA_multi_column(df_movie_raw)"
   ]
  },
  {
   "cell_type": "markdown",
   "metadata": {},
   "source": [
    "##### -imdb_rating & imdb_gross\n",
    "The scatter plot shows a weak positive correlation between imdb_rating and imdb_gross. This means that movies with higher imdb ratings tend to have higher imdb gross. However there are many movies with high imdb ratings that have low imdb gross, and vice versa. This indicates that there are other factors that influence imdb gross besides imdb rating, such as genre, marketing budget, and release date.\n",
    "\n",
    "It can be explained by that imdb rating is a rough indicator of movie quality but not as a perfect measurement. "
   ]
  },
  {
   "cell_type": "code",
   "execution_count": null,
   "metadata": {},
   "outputs": [],
   "source": [
    "eda_movies_m.scatter_plot(['imdb_rating','imdb_gross'])"
   ]
  },
  {
   "cell_type": "markdown",
   "metadata": {},
   "source": [
    "### 3.3 Data Cleaning"
   ]
  },
  {
   "cell_type": "markdown",
   "metadata": {},
   "source": [
    "##### 3.3.1 Column drop\n",
    "Drop the column not needed an both dataset."
   ]
  },
  {
   "cell_type": "code",
   "execution_count": null,
   "metadata": {},
   "outputs": [],
   "source": [
    "from src.hero_data.EDA.data_cleaning import Clean\n",
    "\n",
    "cleaner_comic= Clean(df_comic_raw)\n",
    "\n",
    "columns_to_exclude = ['page_id', 'urlslug','EYE','HAIR','FIRST APPEARANCE']\n",
    "df_comic_c = cleaner_comic.delete_columns(columns_to_exclude)\n",
    "display(df_comic_c.columns)\n",
    "\n",
    "cleaner_movie= Clean(df_movie_raw)\n",
    "\n",
    "columns_to_exclude = ['Unnamed: 0','mpa_rating', 'imdb_votes','director','stars','description','crit_consensus','tomato_review','tom_ratings']\n",
    "df_movie_c = cleaner_movie.delete_columns(columns_to_exclude)\n",
    "display(df_movie_c.columns)"
   ]
  },
  {
   "cell_type": "markdown",
   "metadata": {},
   "source": [
    "##### 3.3.2 NULL Clean\n",
    "Through 3.1 and 3.2, we can see there is a significant number of NULL data. The null_check below shows the null value in each column. The lighter color indicates a null value."
   ]
  },
  {
   "cell_type": "code",
   "execution_count": null,
   "metadata": {},
   "outputs": [],
   "source": [
    "cleaner_comic.null_check()"
   ]
  },
  {
   "cell_type": "markdown",
   "metadata": {},
   "source": [
    "| Variable          | Description                                                       |\n",
    "|-------------------|-------------------------------------------------------------------------------|\n",
    "| ID                | Some heros' identity is not clear in comics, so replace the NaN values with \"Unknown\". Combine null value with original category \"Identity Unknown\"|\n",
    "| ALIGN             | Replace the NaN value with 'Unknown'.                                                    |\n",
    "| SEX               | NaN value in SEX can be replaced by 'Unknown'.                                            |\n",
    "| GSM               | Column GSM is for very little number of heros, the null value stands for no GSM. So null value is reasonable. Replace null with 'not GSM'   |\n",
    "| APPEARANCES       | Column appearances has null subject for heros that never appear in comics, but do have basic information. So replace the null value with 0.                                    |\n",
    "| YEAR              | The year of the character's first appearance in a comic book                                 |"
   ]
  },
  {
   "cell_type": "code",
   "execution_count": null,
   "metadata": {},
   "outputs": [],
   "source": [
    "df_comic=cleaner_comic.replace_null()\n",
    "cleaner_comic.null_check()"
   ]
  },
  {
   "cell_type": "markdown",
   "metadata": {},
   "source": [
    "The second dataset has no null value."
   ]
  },
  {
   "cell_type": "code",
   "execution_count": null,
   "metadata": {},
   "outputs": [],
   "source": [
    "cleaner_movie.null_check()\n",
    "df_movie=df_movie_c"
   ]
  },
  {
   "cell_type": "markdown",
   "metadata": {},
   "source": [
    "# 4 Inference\n",
    "\n",
    "For the inference section, we'll select data related to research question and perform a analysis."
   ]
  },
  {
   "cell_type": "code",
   "execution_count": null,
   "metadata": {},
   "outputs": [],
   "source": [
    "from src.hero_data.Inference.Infer import Analysis"
   ]
  },
  {
   "cell_type": "markdown",
   "metadata": {},
   "source": [
    "### 4.1 Dataset 1: comic book superheroes\n"
   ]
  },
  {
   "cell_type": "code",
   "execution_count": null,
   "metadata": {},
   "outputs": [],
   "source": [
    "analyzer_comic = Analysis(df_comic)"
   ]
  },
  {
   "cell_type": "markdown",
   "metadata": {},
   "source": [
    "##### 4.1.1 Does Gender have a impact on the alignment of the heroes?"
   ]
  },
  {
   "cell_type": "markdown",
   "metadata": {},
   "source": [
    "The chart below represent the percentage of alignment of heroes within different sex. In total, it is clear that bad characters are little bit more than Good characters.  \n",
    "For transgender characters, all of the characters are bad; Compared with female characters, male has a larger percentage of bad characters; for genderfuid characters, there are no bad characters. "
   ]
  },
  {
   "cell_type": "code",
   "execution_count": null,
   "metadata": {},
   "outputs": [],
   "source": [
    "analyzer_comic.Align_Sex()"
   ]
  },
  {
   "cell_type": "markdown",
   "metadata": {},
   "source": [
    "##### 4.1.2 Does Marvel have more attention on the gender and sexual minority than DC?"
   ]
  },
  {
   "cell_type": "markdown",
   "metadata": {},
   "source": [
    "From the chart below it is obvious that DC has less heroes that is gender and sexual minority than Marvel. For other four types of GSM, DC have no heroes of it."
   ]
  },
  {
   "cell_type": "code",
   "execution_count": null,
   "metadata": {},
   "outputs": [],
   "source": [
    "analyzer_comic.GSM_Comic()"
   ]
  },
  {
   "cell_type": "markdown",
   "metadata": {},
   "source": [
    "### 4.2 Dataset 2: movie superheroes"
   ]
  },
  {
   "cell_type": "code",
   "execution_count": null,
   "metadata": {},
   "outputs": [],
   "source": [
    "\n",
    "\n",
    "analyzer_movie = Analysis(df_movie)"
   ]
  },
  {
   "cell_type": "markdown",
   "metadata": {},
   "source": [
    "##### 4.2.1 What genre of the superhero movie has a better rating?\n",
    "In this question, we will give a insight about the genre of the superhero movies. The genre of the movie can be a preference of audience, however it may have strong relation with the movie ratings. So providing the average ratings of each genre can help us better understand what genre does the audience like, and what genre can be most suitable for superhero movies.  "
   ]
  },
  {
   "cell_type": "markdown",
   "metadata": {},
   "source": [
    "The genre column contains multiple genres in each row. So we have to split the genres into individual rows, and group the genres. And calculate the ratings on each genre as well as the number of movies on this genre."
   ]
  },
  {
   "cell_type": "markdown",
   "metadata": {},
   "source": [
    "In the chart are the average ratings on superhero movies from 1944 to 2020, grouping by genres.   \n",
    "Count: The Action genre are in the most movies. Followed by Adventure and Sci-Fi. The other genres has relatively less movies.  \n",
    "The ratings are selected from 3 different indicaters: IMDb, Rotten Tomato meter and its audience rating.  \n",
    "For the overall rating, all genres have very close average rating, but the Comedy is having the best rating. Followed by drama and Sci-Fi. Crime genre has the lowest rating of all, with only 52/100 on the average rating."
   ]
  },
  {
   "cell_type": "code",
   "execution_count": null,
   "metadata": {},
   "outputs": [],
   "source": [
    "analyzer_movie.genre_analysis()"
   ]
  },
  {
   "cell_type": "markdown",
   "metadata": {},
   "source": [
    "# 5.Conclusion:   \n",
    "1. From the chart, it's evident that gender has some influence on the alignment of heroes. Transgender characters are exclusively categorized as \"Bad,\" which might suggest a specific portrayal or narrative in storytelling. Male characters demonstrate a larger percentage in the \"Bad\" category compared to female characters, indicating a potential bias or tendency toward portraying male characters in morally ambiguous or antagonistic roles. Notably, genderfluid characters predominantly fall under \"Neutral\" or \"Good\" alignments, suggesting a more varied or less stereotypical portrayal. Overall, while there seems to be some impact, additional analysis and exploration are crucial to better understand the relationship between gender and hero alignment.\n",
    "\n",
    "2. Based on the observation from the chart, it's apparent that Marvel portrays a larger number of heroes falling within gender and sexual minority categories compared to DC. Specifically, Marvel encompasses a more diverse representation across various gender and sexual minority types in their hero roster compared to DC. The absence of heroes falling under other GSM types within DC indicates a potential disparity in the representation of these minorities between the two comic publishers. As a conclusion, Marvel appears to have a comparatively more pronounced focus on gender and sexual minority representation in their superhero lineup compared to DC.\n",
    "\n",
    "\n",
    "3. Comedy tends to have the highest average ratings among superhero movie genres. This could be attributed to its wider appeal and relatability to diverse audiences. Conversely, Crime genres often portray darker themes and complex narratives, potentially limiting their audience reach and impacting their overall ratings, leading to lower average scores."
   ]
  },
  {
   "cell_type": "markdown",
   "metadata": {},
   "source": [
    "# Reference:\n",
    "dataset 1: https://github.com/fivethirtyeight/data/blob/master/comic-characters/README.md\n",
    "dataset 2: https://drive.google.com/file/d/1wJvsXEctDJScS6dv9IvJy65Qr5LwQL8P/view"
   ]
  }
 ],
 "metadata": {
  "kernelspec": {
   "display_name": "Python 3.10.13 ('AP')",
   "language": "python",
   "name": "python3"
  },
  "language_info": {
   "codemirror_mode": {
    "name": "ipython",
    "version": 3
   },
   "file_extension": ".py",
   "mimetype": "text/x-python",
   "name": "python",
   "nbconvert_exporter": "python",
   "pygments_lexer": "ipython3",
   "version": "3.10.13"
  },
  "orig_nbformat": 4,
  "vscode": {
   "interpreter": {
    "hash": "b1ed10256b798dfe2af017ac6cb23cd3655eebf7de92fb5ac9de5f54fe908f00"
   }
  }
 },
 "nbformat": 4,
 "nbformat_minor": 2
}
